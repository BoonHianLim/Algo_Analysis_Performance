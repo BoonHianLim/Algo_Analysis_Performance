{
 "cells": [
  {
   "cell_type": "code",
   "execution_count": 15,
   "id": "32dd49de",
   "metadata": {},
   "outputs": [
    {
     "name": "stdout",
     "output_type": "stream",
     "text": [
      "1.3.4\n"
     ]
    }
   ],
   "source": [
    "import numpy as py\n",
    "import pandas as pd\n",
    "import seaborn as sb\n",
    "import matplotlib.pyplot as plt\n",
    "print(pd.__version__)"
   ]
  },
  {
   "cell_type": "code",
   "execution_count": 48,
   "id": "e27e7372",
   "metadata": {},
   "outputs": [
    {
     "name": "stdout",
     "output_type": "stream",
     "text": [
      "          0          1          2          3          4          5    \\\n",
      "1   220100540  220100540  220099001  220218729  221105016  221105016   \n",
      "2   220100902  220100902  220100697  220221995  221105415  221105415   \n",
      "3   220099603  220099603  220098688  220220699  221103879  221103879   \n",
      "4   220100163  220100163  220100783  220221754  221107441  221107441   \n",
      "5   220101069  220101069  220099227  220219753  221106244  221106244   \n",
      "6   220098538  220098538  220098670  220220421  221102416  221102416   \n",
      "7   220098200  220098200  220098892  220219350  221110668  221110668   \n",
      "8   220100170  220100170  220098841  220220210  221108205  221108205   \n",
      "9   220100250  220100250  220101163  220222985  221108313  221108313   \n",
      "10  220101339  220101339  220100629  220223213  221112054  221112054   \n",
      "11  220102207  220102207  220102169  220222358  221105835  221105835   \n",
      "12  220100510  220100510  220099953  220221950  221104351  221104351   \n",
      "13  220101207  220101207  220102265  220223846  221107735  221107735   \n",
      "14  220100959  220100959  220100360  220221834  221111777  221111777   \n",
      "15  220100638  220100638  220101022  220221331  221105716  221105716   \n",
      "16  220098471  220098471  220098554  220219599  221110823  221110823   \n",
      "17  220101167  220101167  220100559  220220741  221106493  221106493   \n",
      "18  220096008  220096008  220094533  220215815  221102311  221102311   \n",
      "19  220099459  220099459  220100028  220221570  221102770  221102770   \n",
      "20  220100887  220100887  220099764  220220557  221103457  221103457   \n",
      "21  220099799  220099799  220098630  220220142  221103647  221103647   \n",
      "\n",
      "          6          7          8          9    ...        91         92   \\\n",
      "1   221105016  221105016  223148425  226420727  ...  367311671  367311671   \n",
      "2   221105415  221105415  223147911  226415607  ...  367358098  367358098   \n",
      "3   221103879  221103879  223141124  226411278  ...  367286295  367286295   \n",
      "4   221107441  221107441  223147939  226421596  ...  367322829  367322829   \n",
      "5   221106244  221106244  223144019  226403822  ...  367325740  367325740   \n",
      "6   221102416  221102416  223145222  226412729  ...  367349054  367349054   \n",
      "7   221110668  221110668  223154253  226420764  ...  367330362  367330362   \n",
      "8   221108205  221108205  223145461  226407744  ...  367311951  367311951   \n",
      "9   221108313  221108313  223150173  226414055  ...  367325962  367325962   \n",
      "10  221112054  221112054  223156414  226421531  ...  367309927  367309927   \n",
      "11  221105835  221105835  223143124  226408673  ...  367335738  367335738   \n",
      "12  221104351  221104351  223145770  226418633  ...  367380794  367380794   \n",
      "13  221107735  221107735  223148827  226418598  ...  367304486  367304486   \n",
      "14  221111777  221111777  223155239  226419874  ...  367333860  367333860   \n",
      "15  221105716  221105716  223150912  226413966  ...  367334365  367334365   \n",
      "16  221110823  221110823  223150070  226421520  ...  367333741  367333741   \n",
      "17  221106493  221106493  223150920  226416230  ...  367371758  367371758   \n",
      "18  221102311  221102311  223144143  226412821  ...  367342514  367342514   \n",
      "19  221102770  221102770  223143480  226410087  ...  367229237  367229237   \n",
      "20  221103457  221103457  223148098  226417732  ...  367283405  367283405   \n",
      "21  221103647  221103647  223139449  226406644  ...  367337474  367337474   \n",
      "\n",
      "          93         94         95         96         97         98   \\\n",
      "1   367311671  367311671  367311671  367311671  367311671  367311671   \n",
      "2   367358098  367358098  367358098  367358098  367358098  367358098   \n",
      "3   367286295  367286295  367286295  367286295  367286295  367286295   \n",
      "4   367322829  367322829  367322829  367322829  367322829  367322829   \n",
      "5   367325740  367325740  367325740  367325740  367325740  367325740   \n",
      "6   367349054  367349054  367349054  367349054  367349054  367349054   \n",
      "7   367330362  367330362  367330362  367330362  367330362  367330362   \n",
      "8   367311951  367311951  367311951  367311951  367311951  367311951   \n",
      "9   367325962  367325962  367325962  367325962  367325962  367325962   \n",
      "10  367309927  367309927  367309927  367309927  367309927  367309927   \n",
      "11  367335738  367335738  367335738  367335738  367335738  367335738   \n",
      "12  367380794  367380794  367380794  367380794  367380794  367380794   \n",
      "13  367304486  367304486  367304486  367304486  367304486  367304486   \n",
      "14  367333860  367333860  367333860  367333860  367333860  367333860   \n",
      "15  367334365  367334365  367334365  367334365  367334365  367334365   \n",
      "16  367333741  367333741  367333741  367333741  367333741  367333741   \n",
      "17  367371758  367371758  367371758  367371758  367371758  367371758   \n",
      "18  367342514  367342514  367342514  367342514  367342514  367342514   \n",
      "19  367229237  367229237  367229237  367229237  367229237  367229237   \n",
      "20  367283405  367283405  367283405  367283405  367283405  367283405   \n",
      "21  367337474  367337474  367337474  367337474  367337474  367337474   \n",
      "\n",
      "          99         100  \n",
      "1   367311671  367311671  \n",
      "2   367358098  367358098  \n",
      "3   367286295  367286295  \n",
      "4   367322829  367322829  \n",
      "5   367325740  367325740  \n",
      "6   367349054  367349054  \n",
      "7   367330362  367330362  \n",
      "8   367311951  367311951  \n",
      "9   367325962  367325962  \n",
      "10  367309927  367309927  \n",
      "11  367335738  367335738  \n",
      "12  367380794  367380794  \n",
      "13  367304486  367304486  \n",
      "14  367333860  367333860  \n",
      "15  367334365  367334365  \n",
      "16  367333741  367333741  \n",
      "17  367371758  367371758  \n",
      "18  367342514  367342514  \n",
      "19  367229237  367229237  \n",
      "20  367283405  367283405  \n",
      "21  367337474  367337474  \n",
      "\n",
      "[21 rows x 101 columns]\n",
      "      0      1      2      3      4      5      6      7      8      9    ...  \\\n",
      "1   2.796  2.353  2.185  2.194  1.974  1.952  1.976  1.998  1.922  1.926  ...   \n",
      "2   4.193  3.835  3.362  3.326  3.099  2.948  2.740  2.843  2.797  2.649  ...   \n",
      "3   3.965  3.284  2.935  2.993  2.707  2.760  2.688  2.734  2.709  2.660  ...   \n",
      "4   3.454  2.853  2.556  2.472  2.303  2.358  2.324  2.318  2.300  2.290  ...   \n",
      "5   3.620  2.802  2.577  2.475  2.425  2.295  2.316  2.332  2.373  2.370  ...   \n",
      "6   3.295  2.852  2.841  2.891  2.293  2.186  2.186  2.733  2.384  2.099  ...   \n",
      "7   2.741  2.295  2.126  2.066  1.906  1.887  1.900  1.894  1.858  1.783  ...   \n",
      "8   2.742  2.304  2.140  2.105  1.905  1.919  1.937  1.911  1.862  1.794  ...   \n",
      "9   2.792  2.319  2.148  2.103  1.928  1.915  1.911  1.913  1.869  1.800  ...   \n",
      "10  2.745  2.321  2.133  2.113  1.910  1.898  1.890  1.907  1.885  1.796  ...   \n",
      "11  2.725  2.299  2.141  2.078  1.895  1.901  1.886  1.899  1.872  1.781  ...   \n",
      "12  2.751  2.307  2.128  2.087  1.895  1.910  1.895  1.898  1.855  1.797  ...   \n",
      "13  6.684  3.675  2.492  2.073  1.907  1.909  1.894  1.906  1.854  1.796  ...   \n",
      "14  2.749  2.302  2.128  2.071  1.957  1.910  1.924  1.929  1.883  1.796  ...   \n",
      "15  2.758  2.294  2.129  2.063  1.890  1.909  1.904  1.909  1.878  1.802  ...   \n",
      "16  2.761  2.293  2.141  2.065  1.892  1.898  1.894  1.889  1.847  1.784  ...   \n",
      "17  2.738  2.325  2.130  2.076  1.896  1.906  1.913  1.898  1.851  1.784  ...   \n",
      "18  2.742  2.290  2.117  2.071  1.907  1.896  1.885  1.892  1.854  1.782  ...   \n",
      "19  3.281  3.016  2.659  2.557  2.424  2.311  2.843  2.638  2.282  2.102  ...   \n",
      "20  3.322  2.767  2.615  2.558  2.355  2.298  2.336  2.193  2.244  2.116  ...   \n",
      "21  2.813  2.354  2.178  2.096  1.894  1.898  1.899  2.445  2.429  2.185  ...   \n",
      "\n",
      "      91     92     93     94     95     96     97     98     99     100  \n",
      "1   3.562  3.548  3.764  3.597  3.687  3.680  3.562  3.568  3.616  3.579  \n",
      "2   3.056  2.871  3.069  3.118  3.159  3.285  3.388  3.500  3.197  3.352  \n",
      "3   2.629  2.652  2.709  2.687  2.763  2.848  2.865  2.873  3.174  2.973  \n",
      "4   2.875  2.769  2.966  2.753  2.864  2.781  2.798  2.749  2.645  2.637  \n",
      "5   3.111  2.949  3.180  3.308  2.949  3.215  2.975  2.829  3.059  2.665  \n",
      "6   2.253  2.258  2.259  2.256  2.251  2.259  2.241  2.245  2.235  2.242  \n",
      "7   2.237  2.232  2.253  2.263  2.265  2.264  2.269  2.267  2.253  2.262  \n",
      "8   2.472  2.326  2.339  2.350  2.461  2.381  2.326  2.307  2.291  2.282  \n",
      "9   2.241  2.229  2.245  2.237  2.237  2.238  2.252  2.258  2.236  2.245  \n",
      "10  2.239  2.252  2.228  2.223  2.239  2.248  2.231  2.242  2.241  2.239  \n",
      "11  2.251  2.237  2.229  2.241  2.236  2.245  2.246  2.233  2.241  2.237  \n",
      "12  2.242  2.246  2.256  2.258  2.242  2.246  2.249  2.244  2.245  2.273  \n",
      "13  2.239  2.246  2.239  2.274  2.230  2.248  2.238  2.248  2.245  2.286  \n",
      "14  2.234  2.242  2.236  2.246  2.235  2.235  2.244  2.210  2.415  2.255  \n",
      "15  2.237  2.252  2.245  2.242  2.234  2.246  2.233  2.245  2.236  2.234  \n",
      "16  2.244  2.244  2.229  2.236  2.248  2.228  2.227  2.225  2.224  2.291  \n",
      "17  2.238  2.242  2.235  2.236  2.237  2.228  2.243  2.229  2.243  2.245  \n",
      "18  2.641  2.663  2.561  2.863  2.738  2.810  2.719  2.753  2.776  2.746  \n",
      "19  2.748  2.760  2.661  2.765  2.786  2.661  2.720  2.722  2.760  2.817  \n",
      "20  2.793  2.708  2.725  2.870  3.106  2.724  2.763  2.744  2.733  2.928  \n",
      "21  2.460  2.544  2.407  2.333  2.330  2.341  2.317  2.315  2.297  2.317  \n",
      "\n",
      "[21 rows x 101 columns]\n"
     ]
    }
   ],
   "source": [
    "count = pd.DataFrame()\n",
    "time = pd.DataFrame()\n",
    "\n",
    "for i in range(0,21):\n",
    "    fileName1 = \"Data\\count\" + str(i) + \".txt\"\n",
    "    fileName2 = \"Data\\delay\" + str(i) + \".txt\"\n",
    "    frame1 = pd.read_csv(fileName1,header = None, names = [str(i+1)])\n",
    "    frame1 = frame1.transpose()\n",
    "    count = pd.concat([count,frame1],axis = 0)\n",
    "    \n",
    "    frame2 = pd.read_csv(fileName2,header = None, names = [str(i+1)])\n",
    "    frame2 = frame2.transpose()\n",
    "    time = pd.concat([time,frame2],axis = 0)\n",
    "    \n",
    "print(count)\n",
    "print(time)"
   ]
  },
  {
   "cell_type": "code",
   "execution_count": 49,
   "id": "ce630f85",
   "metadata": {},
   "outputs": [
    {
     "data": {
      "text/html": [
       "<div>\n",
       "<style scoped>\n",
       "    .dataframe tbody tr th:only-of-type {\n",
       "        vertical-align: middle;\n",
       "    }\n",
       "\n",
       "    .dataframe tbody tr th {\n",
       "        vertical-align: top;\n",
       "    }\n",
       "\n",
       "    .dataframe thead th {\n",
       "        text-align: right;\n",
       "    }\n",
       "</style>\n",
       "<table border=\"1\" class=\"dataframe\">\n",
       "  <thead>\n",
       "    <tr style=\"text-align: right;\">\n",
       "      <th></th>\n",
       "      <th>0</th>\n",
       "      <th>1</th>\n",
       "      <th>2</th>\n",
       "      <th>3</th>\n",
       "      <th>4</th>\n",
       "      <th>5</th>\n",
       "      <th>6</th>\n",
       "      <th>7</th>\n",
       "      <th>8</th>\n",
       "      <th>9</th>\n",
       "      <th>...</th>\n",
       "      <th>91</th>\n",
       "      <th>92</th>\n",
       "      <th>93</th>\n",
       "      <th>94</th>\n",
       "      <th>95</th>\n",
       "      <th>96</th>\n",
       "      <th>97</th>\n",
       "      <th>98</th>\n",
       "      <th>99</th>\n",
       "      <th>100</th>\n",
       "    </tr>\n",
       "  </thead>\n",
       "  <tbody>\n",
       "    <tr>\n",
       "      <th>count</th>\n",
       "      <td>2.100000e+01</td>\n",
       "      <td>2.100000e+01</td>\n",
       "      <td>2.100000e+01</td>\n",
       "      <td>2.100000e+01</td>\n",
       "      <td>2.100000e+01</td>\n",
       "      <td>2.100000e+01</td>\n",
       "      <td>2.100000e+01</td>\n",
       "      <td>2.100000e+01</td>\n",
       "      <td>2.100000e+01</td>\n",
       "      <td>2.100000e+01</td>\n",
       "      <td>...</td>\n",
       "      <td>2.100000e+01</td>\n",
       "      <td>2.100000e+01</td>\n",
       "      <td>2.100000e+01</td>\n",
       "      <td>2.100000e+01</td>\n",
       "      <td>2.100000e+01</td>\n",
       "      <td>2.100000e+01</td>\n",
       "      <td>2.100000e+01</td>\n",
       "      <td>2.100000e+01</td>\n",
       "      <td>2.100000e+01</td>\n",
       "      <td>2.100000e+01</td>\n",
       "    </tr>\n",
       "    <tr>\n",
       "      <th>mean</th>\n",
       "      <td>2.201001e+08</td>\n",
       "      <td>2.201001e+08</td>\n",
       "      <td>2.200997e+08</td>\n",
       "      <td>2.202209e+08</td>\n",
       "      <td>2.211064e+08</td>\n",
       "      <td>2.211064e+08</td>\n",
       "      <td>2.211064e+08</td>\n",
       "      <td>2.211064e+08</td>\n",
       "      <td>2.231477e+08</td>\n",
       "      <td>2.264150e+08</td>\n",
       "      <td>...</td>\n",
       "      <td>3.673247e+08</td>\n",
       "      <td>3.673247e+08</td>\n",
       "      <td>3.673247e+08</td>\n",
       "      <td>3.673247e+08</td>\n",
       "      <td>3.673247e+08</td>\n",
       "      <td>3.673247e+08</td>\n",
       "      <td>3.673247e+08</td>\n",
       "      <td>3.673247e+08</td>\n",
       "      <td>3.673247e+08</td>\n",
       "      <td>3.673247e+08</td>\n",
       "    </tr>\n",
       "    <tr>\n",
       "      <th>std</th>\n",
       "      <td>1.381247e+03</td>\n",
       "      <td>1.381247e+03</td>\n",
       "      <td>1.647139e+03</td>\n",
       "      <td>1.767544e+03</td>\n",
       "      <td>3.038994e+03</td>\n",
       "      <td>3.038994e+03</td>\n",
       "      <td>3.038994e+03</td>\n",
       "      <td>3.038994e+03</td>\n",
       "      <td>4.479465e+03</td>\n",
       "      <td>5.437104e+03</td>\n",
       "      <td>...</td>\n",
       "      <td>3.257431e+04</td>\n",
       "      <td>3.257431e+04</td>\n",
       "      <td>3.257431e+04</td>\n",
       "      <td>3.257431e+04</td>\n",
       "      <td>3.257431e+04</td>\n",
       "      <td>3.257431e+04</td>\n",
       "      <td>3.257431e+04</td>\n",
       "      <td>3.257431e+04</td>\n",
       "      <td>3.257431e+04</td>\n",
       "      <td>3.257431e+04</td>\n",
       "    </tr>\n",
       "    <tr>\n",
       "      <th>min</th>\n",
       "      <td>2.200960e+08</td>\n",
       "      <td>2.200960e+08</td>\n",
       "      <td>2.200945e+08</td>\n",
       "      <td>2.202158e+08</td>\n",
       "      <td>2.211023e+08</td>\n",
       "      <td>2.211023e+08</td>\n",
       "      <td>2.211023e+08</td>\n",
       "      <td>2.211023e+08</td>\n",
       "      <td>2.231394e+08</td>\n",
       "      <td>2.264038e+08</td>\n",
       "      <td>...</td>\n",
       "      <td>3.672292e+08</td>\n",
       "      <td>3.672292e+08</td>\n",
       "      <td>3.672292e+08</td>\n",
       "      <td>3.672292e+08</td>\n",
       "      <td>3.672292e+08</td>\n",
       "      <td>3.672292e+08</td>\n",
       "      <td>3.672292e+08</td>\n",
       "      <td>3.672292e+08</td>\n",
       "      <td>3.672292e+08</td>\n",
       "      <td>3.672292e+08</td>\n",
       "    </tr>\n",
       "    <tr>\n",
       "      <th>25%</th>\n",
       "      <td>2.200996e+08</td>\n",
       "      <td>2.200996e+08</td>\n",
       "      <td>2.200988e+08</td>\n",
       "      <td>2.202201e+08</td>\n",
       "      <td>2.211039e+08</td>\n",
       "      <td>2.211039e+08</td>\n",
       "      <td>2.211039e+08</td>\n",
       "      <td>2.211039e+08</td>\n",
       "      <td>2.231441e+08</td>\n",
       "      <td>2.264113e+08</td>\n",
       "      <td>...</td>\n",
       "      <td>3.673117e+08</td>\n",
       "      <td>3.673117e+08</td>\n",
       "      <td>3.673117e+08</td>\n",
       "      <td>3.673117e+08</td>\n",
       "      <td>3.673117e+08</td>\n",
       "      <td>3.673117e+08</td>\n",
       "      <td>3.673117e+08</td>\n",
       "      <td>3.673117e+08</td>\n",
       "      <td>3.673117e+08</td>\n",
       "      <td>3.673117e+08</td>\n",
       "    </tr>\n",
       "    <tr>\n",
       "      <th>50%</th>\n",
       "      <td>2.201005e+08</td>\n",
       "      <td>2.201005e+08</td>\n",
       "      <td>2.201000e+08</td>\n",
       "      <td>2.202207e+08</td>\n",
       "      <td>2.211058e+08</td>\n",
       "      <td>2.211058e+08</td>\n",
       "      <td>2.211058e+08</td>\n",
       "      <td>2.211058e+08</td>\n",
       "      <td>2.231479e+08</td>\n",
       "      <td>2.264156e+08</td>\n",
       "      <td>...</td>\n",
       "      <td>3.673304e+08</td>\n",
       "      <td>3.673304e+08</td>\n",
       "      <td>3.673304e+08</td>\n",
       "      <td>3.673304e+08</td>\n",
       "      <td>3.673304e+08</td>\n",
       "      <td>3.673304e+08</td>\n",
       "      <td>3.673304e+08</td>\n",
       "      <td>3.673304e+08</td>\n",
       "      <td>3.673304e+08</td>\n",
       "      <td>3.673304e+08</td>\n",
       "    </tr>\n",
       "    <tr>\n",
       "      <th>75%</th>\n",
       "      <td>2.201010e+08</td>\n",
       "      <td>2.201010e+08</td>\n",
       "      <td>2.201007e+08</td>\n",
       "      <td>2.202220e+08</td>\n",
       "      <td>2.211082e+08</td>\n",
       "      <td>2.211082e+08</td>\n",
       "      <td>2.211082e+08</td>\n",
       "      <td>2.211082e+08</td>\n",
       "      <td>2.231502e+08</td>\n",
       "      <td>2.264199e+08</td>\n",
       "      <td>...</td>\n",
       "      <td>3.673375e+08</td>\n",
       "      <td>3.673375e+08</td>\n",
       "      <td>3.673375e+08</td>\n",
       "      <td>3.673375e+08</td>\n",
       "      <td>3.673375e+08</td>\n",
       "      <td>3.673375e+08</td>\n",
       "      <td>3.673375e+08</td>\n",
       "      <td>3.673375e+08</td>\n",
       "      <td>3.673375e+08</td>\n",
       "      <td>3.673375e+08</td>\n",
       "    </tr>\n",
       "    <tr>\n",
       "      <th>max</th>\n",
       "      <td>2.201022e+08</td>\n",
       "      <td>2.201022e+08</td>\n",
       "      <td>2.201023e+08</td>\n",
       "      <td>2.202238e+08</td>\n",
       "      <td>2.211121e+08</td>\n",
       "      <td>2.211121e+08</td>\n",
       "      <td>2.211121e+08</td>\n",
       "      <td>2.211121e+08</td>\n",
       "      <td>2.231564e+08</td>\n",
       "      <td>2.264216e+08</td>\n",
       "      <td>...</td>\n",
       "      <td>3.673808e+08</td>\n",
       "      <td>3.673808e+08</td>\n",
       "      <td>3.673808e+08</td>\n",
       "      <td>3.673808e+08</td>\n",
       "      <td>3.673808e+08</td>\n",
       "      <td>3.673808e+08</td>\n",
       "      <td>3.673808e+08</td>\n",
       "      <td>3.673808e+08</td>\n",
       "      <td>3.673808e+08</td>\n",
       "      <td>3.673808e+08</td>\n",
       "    </tr>\n",
       "  </tbody>\n",
       "</table>\n",
       "<p>8 rows × 101 columns</p>\n",
       "</div>"
      ],
      "text/plain": [
       "                0             1             2             3             4    \\\n",
       "count  2.100000e+01  2.100000e+01  2.100000e+01  2.100000e+01  2.100000e+01   \n",
       "mean   2.201001e+08  2.201001e+08  2.200997e+08  2.202209e+08  2.211064e+08   \n",
       "std    1.381247e+03  1.381247e+03  1.647139e+03  1.767544e+03  3.038994e+03   \n",
       "min    2.200960e+08  2.200960e+08  2.200945e+08  2.202158e+08  2.211023e+08   \n",
       "25%    2.200996e+08  2.200996e+08  2.200988e+08  2.202201e+08  2.211039e+08   \n",
       "50%    2.201005e+08  2.201005e+08  2.201000e+08  2.202207e+08  2.211058e+08   \n",
       "75%    2.201010e+08  2.201010e+08  2.201007e+08  2.202220e+08  2.211082e+08   \n",
       "max    2.201022e+08  2.201022e+08  2.201023e+08  2.202238e+08  2.211121e+08   \n",
       "\n",
       "                5             6             7             8             9    \\\n",
       "count  2.100000e+01  2.100000e+01  2.100000e+01  2.100000e+01  2.100000e+01   \n",
       "mean   2.211064e+08  2.211064e+08  2.211064e+08  2.231477e+08  2.264150e+08   \n",
       "std    3.038994e+03  3.038994e+03  3.038994e+03  4.479465e+03  5.437104e+03   \n",
       "min    2.211023e+08  2.211023e+08  2.211023e+08  2.231394e+08  2.264038e+08   \n",
       "25%    2.211039e+08  2.211039e+08  2.211039e+08  2.231441e+08  2.264113e+08   \n",
       "50%    2.211058e+08  2.211058e+08  2.211058e+08  2.231479e+08  2.264156e+08   \n",
       "75%    2.211082e+08  2.211082e+08  2.211082e+08  2.231502e+08  2.264199e+08   \n",
       "max    2.211121e+08  2.211121e+08  2.211121e+08  2.231564e+08  2.264216e+08   \n",
       "\n",
       "       ...           91            92            93            94   \\\n",
       "count  ...  2.100000e+01  2.100000e+01  2.100000e+01  2.100000e+01   \n",
       "mean   ...  3.673247e+08  3.673247e+08  3.673247e+08  3.673247e+08   \n",
       "std    ...  3.257431e+04  3.257431e+04  3.257431e+04  3.257431e+04   \n",
       "min    ...  3.672292e+08  3.672292e+08  3.672292e+08  3.672292e+08   \n",
       "25%    ...  3.673117e+08  3.673117e+08  3.673117e+08  3.673117e+08   \n",
       "50%    ...  3.673304e+08  3.673304e+08  3.673304e+08  3.673304e+08   \n",
       "75%    ...  3.673375e+08  3.673375e+08  3.673375e+08  3.673375e+08   \n",
       "max    ...  3.673808e+08  3.673808e+08  3.673808e+08  3.673808e+08   \n",
       "\n",
       "                95            96            97            98            99   \\\n",
       "count  2.100000e+01  2.100000e+01  2.100000e+01  2.100000e+01  2.100000e+01   \n",
       "mean   3.673247e+08  3.673247e+08  3.673247e+08  3.673247e+08  3.673247e+08   \n",
       "std    3.257431e+04  3.257431e+04  3.257431e+04  3.257431e+04  3.257431e+04   \n",
       "min    3.672292e+08  3.672292e+08  3.672292e+08  3.672292e+08  3.672292e+08   \n",
       "25%    3.673117e+08  3.673117e+08  3.673117e+08  3.673117e+08  3.673117e+08   \n",
       "50%    3.673304e+08  3.673304e+08  3.673304e+08  3.673304e+08  3.673304e+08   \n",
       "75%    3.673375e+08  3.673375e+08  3.673375e+08  3.673375e+08  3.673375e+08   \n",
       "max    3.673808e+08  3.673808e+08  3.673808e+08  3.673808e+08  3.673808e+08   \n",
       "\n",
       "                100  \n",
       "count  2.100000e+01  \n",
       "mean   3.673247e+08  \n",
       "std    3.257431e+04  \n",
       "min    3.672292e+08  \n",
       "25%    3.673117e+08  \n",
       "50%    3.673304e+08  \n",
       "75%    3.673375e+08  \n",
       "max    3.673808e+08  \n",
       "\n",
       "[8 rows x 101 columns]"
      ]
     },
     "execution_count": 49,
     "metadata": {},
     "output_type": "execute_result"
    }
   ],
   "source": [
    "count.describe()"
   ]
  },
  {
   "cell_type": "code",
   "execution_count": 50,
   "id": "5fd31d14",
   "metadata": {},
   "outputs": [
    {
     "data": {
      "text/plain": [
       "<AxesSubplot:>"
      ]
     },
     "execution_count": 50,
     "metadata": {},
     "output_type": "execute_result"
    },
    {
     "data": {
      "image/png": "[encoded data removed]",
      "text/plain": [
       "<Figure size 288x288 with 1 Axes>"
      ]
     },
     "metadata": {
      "needs_background": "light"
     },
     "output_type": "display_data"
    }
   ],
   "source": [
    "f = plt.figure(figsize = (4,4))\n",
    "sb.lineplot(data=pd.DataFrame(count.median()))"
   ]
  },
  {
   "cell_type": "code",
   "execution_count": 51,
   "id": "766f8b35",
   "metadata": {},
   "outputs": [
    {
     "data": {
      "application/vnd.plotly.v1+json": {
       "config": {
        "plotlyServerURL": "https://plot.ly"
       },
       "data": [
        {
         "hovertemplate": "variable=0<br>index=%{x}<br>value=%{y}<extra></extra>",
         "legendgroup": "0",
         "line": {
          "color": "#636efa",
          "dash": "solid"
         },
         "marker": {
          "symbol": "circle"
         },
         "mode": "lines",
         "name": "0",
         "orientation": "v",
         "showlegend": true,
         "type": "scatter",
         "x": [
          0,
          1,
          2,
          3,
          4,
          5,
          6,
          7,
          8,
          9,
          10,
          11,
          12,
          13,
          14,
          15,
          16,
          17,
          18,
          19,
          20,
          21,
          22,
          23,
          24,
          25,
          26,
          27,
          28,
          29,
          30,
          31,
          32,
          33,
          34,
          35,
          36,
          37,
          38,
          39,
          40,
          41,
          42,
          43,
          44,
          45,
          46,
          47,
          48,
          49,
          50,
          51,
          52,
          53,
          54,
          55,
          56,
          57,
          58,
          59,
          60,
          61,
          62,
          63,
          64,
          65,
          66,
          67,
          68,
          69,
          70,
          71,
          72,
          73,
          74,
          75,
          76,
          77,
          78,
          79,
          80,
          81,
          82,
          83,
          84,
          85,
          86,
          87,
          88,
          89,
          90,
          91,
          92,
          93,
          94,
          95,
          96,
          97,
          98,
          99,
          100
         ],
         "xaxis": "x",
         "y": [
          220100510,
          220100510,
          220099953,
          220220741,
          221105835,
          221105835,
          221105835,
          221105835,
          223147939,
          226415607,
          226415607,
          226415607,
          226415607,
          226415607,
          226415607,
          226415607,
          226415607,
          226415607,
          240998525,
          242311805,
          242311805,
          242311805,
          242311805,
          242311805,
          242311805,
          242311805,
          242311805,
          242311805,
          242311805,
          242311805,
          242311805,
          242311805,
          242311805,
          242311805,
          242311805,
          242311805,
          242311805,
          275244959,
          281248582,
          281248582,
          281248582,
          281248582,
          281248582,
          281248582,
          281248582,
          281248582,
          281248582,
          281248582,
          281248582,
          281248582,
          281248582,
          281248582,
          281248582,
          281248582,
          281248582,
          281248582,
          281248582,
          281248582,
          281248582,
          281248582,
          281248582,
          281248582,
          281248582,
          281248582,
          281248582,
          281248582,
          281248582,
          281248582,
          281248582,
          281248582,
          281248582,
          281248582,
          281248582,
          281248582,
          281248582,
          341538157,
          367330362,
          367330362,
          367330362,
          367330362,
          367330362,
          367330362,
          367330362,
          367330362,
          367330362,
          367330362,
          367330362,
          367330362,
          367330362,
          367330362,
          367330362,
          367330362,
          367330362,
          367330362,
          367330362,
          367330362,
          367330362,
          367330362,
          367330362,
          367330362,
          367330362
         ],
         "yaxis": "y"
        }
       ],
       "layout": {
        "legend": {
         "title": {
          "text": "variable"
         },
         "tracegroupgap": 0
        },
        "template": {
         "data": {
          "bar": [
           {
            "error_x": {
             "color": "#2a3f5f"
            },
            "error_y": {
             "color": "#2a3f5f"
            },
            "marker": {
             "line": {
              "color": "#E5ECF6",
              "width": 0.5
             },
             "pattern": {
              "fillmode": "overlay",
              "size": 10,
              "solidity": 0.2
             }
            },
            "type": "bar"
           }
          ],
          "barpolar": [
           {
            "marker": {
             "line": {
              "color": "#E5ECF6",
              "width": 0.5
             },
             "pattern": {
              "fillmode": "overlay",
              "size": 10,
              "solidity": 0.2
             }
            },
            "type": "barpolar"
           }
          ],
          "carpet": [
           {
            "aaxis": {
             "endlinecolor": "#2a3f5f",
             "gridcolor": "white",
             "linecolor": "white",
             "minorgridcolor": "white",
             "startlinecolor": "#2a3f5f"
            },
            "baxis": {
             "endlinecolor": "#2a3f5f",
             "gridcolor": "white",
             "linecolor": "white",
             "minorgridcolor": "white",
             "startlinecolor": "#2a3f5f"
            },
            "type": "carpet"
           }
          ],
          "choropleth": [
           {
            "colorbar": {
             "outlinewidth": 0,
             "ticks": ""
            },
            "type": "choropleth"
           }
          ],
          "contour": [
           {
            "colorbar": {
             "outlinewidth": 0,
             "ticks": ""
            },
            "colorscale": [
             [
              0,
              "#0d0887"
             ],
             [
              0.1111111111111111,
              "#46039f"
             ],
             [
              0.2222222222222222,
              "#7201a8"
             ],
             [
              0.3333333333333333,
              "#9c179e"
             ],
             [
              0.4444444444444444,
              "#bd3786"
             ],
             [
              0.5555555555555556,
              "#d8576b"
             ],
             [
              0.6666666666666666,
              "#ed7953"
             ],
             [
              0.7777777777777778,
              "#fb9f3a"
             ],
             [
              0.8888888888888888,
              "#fdca26"
             ],
             [
              1,
              "#f0f921"
             ]
            ],
            "type": "contour"
           }
          ],
          "contourcarpet": [
           {
            "colorbar": {
             "outlinewidth": 0,
             "ticks": ""
            },
            "type": "contourcarpet"
           }
          ],
          "heatmap": [
           {
            "colorbar": {
             "outlinewidth": 0,
             "ticks": ""
            },
            "colorscale": [
             [
              0,
              "#0d0887"
             ],
             [
              0.1111111111111111,
              "#46039f"
             ],
             [
              0.2222222222222222,
              "#7201a8"
             ],
             [
              0.3333333333333333,
              "#9c179e"
             ],
             [
              0.4444444444444444,
              "#bd3786"
             ],
             [
              0.5555555555555556,
              "#d8576b"
             ],
             [
              0.6666666666666666,
              "#ed7953"
             ],
             [
              0.7777777777777778,
              "#fb9f3a"
             ],
             [
              0.8888888888888888,
              "#fdca26"
             ],
             [
              1,
              "#f0f921"
             ]
            ],
            "type": "heatmap"
           }
          ],
          "heatmapgl": [
           {
            "colorbar": {
             "outlinewidth": 0,
             "ticks": ""
            },
            "colorscale": [
             [
              0,
              "#0d0887"
             ],
             [
              0.1111111111111111,
              "#46039f"
             ],
             [
              0.2222222222222222,
              "#7201a8"
             ],
             [
              0.3333333333333333,
              "#9c179e"
             ],
             [
              0.4444444444444444,
              "#bd3786"
             ],
             [
              0.5555555555555556,
              "#d8576b"
             ],
             [
              0.6666666666666666,
              "#ed7953"
             ],
             [
              0.7777777777777778,
              "#fb9f3a"
             ],
             [
              0.8888888888888888,
              "#fdca26"
             ],
             [
              1,
              "#f0f921"
             ]
            ],
            "type": "heatmapgl"
           }
          ],
          "histogram": [
           {
            "marker": {
             "pattern": {
              "fillmode": "overlay",
              "size": 10,
              "solidity": 0.2
             }
            },
            "type": "histogram"
           }
          ],
          "histogram2d": [
           {
            "colorbar": {
             "outlinewidth": 0,
             "ticks": ""
            },
            "colorscale": [
             [
              0,
              "#0d0887"
             ],
             [
              0.1111111111111111,
              "#46039f"
             ],
             [
              0.2222222222222222,
              "#7201a8"
             ],
             [
              0.3333333333333333,
              "#9c179e"
             ],
             [
              0.4444444444444444,
              "#bd3786"
             ],
             [
              0.5555555555555556,
              "#d8576b"
             ],
             [
              0.6666666666666666,
              "#ed7953"
             ],
             [
              0.7777777777777778,
              "#fb9f3a"
             ],
             [
              0.8888888888888888,
              "#fdca26"
             ],
             [
              1,
              "#f0f921"
             ]
            ],
            "type": "histogram2d"
           }
          ],
          "histogram2dcontour": [
           {
            "colorbar": {
             "outlinewidth": 0,
             "ticks": ""
            },
            "colorscale": [
             [
              0,
              "#0d0887"
             ],
             [
              0.1111111111111111,
              "#46039f"
             ],
             [
              0.2222222222222222,
              "#7201a8"
             ],
             [
              0.3333333333333333,
              "#9c179e"
             ],
             [
              0.4444444444444444,
              "#bd3786"
             ],
             [
              0.5555555555555556,
              "#d8576b"
             ],
             [
              0.6666666666666666,
              "#ed7953"
             ],
             [
              0.7777777777777778,
              "#fb9f3a"
             ],
             [
              0.8888888888888888,
              "#fdca26"
             ],
             [
              1,
              "#f0f921"
             ]
            ],
            "type": "histogram2dcontour"
           }
          ],
          "mesh3d": [
           {
            "colorbar": {
             "outlinewidth": 0,
             "ticks": ""
            },
            "type": "mesh3d"
           }
          ],
          "parcoords": [
           {
            "line": {
             "colorbar": {
              "outlinewidth": 0,
              "ticks": ""
             }
            },
            "type": "parcoords"
           }
          ],
          "pie": [
           {
            "automargin": true,
            "type": "pie"
           }
          ],
          "scatter": [
           {
            "marker": {
             "colorbar": {
              "outlinewidth": 0,
              "ticks": ""
             }
            },
            "type": "scatter"
           }
          ],
          "scatter3d": [
           {
            "line": {
             "colorbar": {
              "outlinewidth": 0,
              "ticks": ""
             }
            },
            "marker": {
             "colorbar": {
              "outlinewidth": 0,
              "ticks": ""
             }
            },
            "type": "scatter3d"
           }
          ],
          "scattercarpet": [
           {
            "marker": {
             "colorbar": {
              "outlinewidth": 0,
              "ticks": ""
             }
            },
            "type": "scattercarpet"
           }
          ],
          "scattergeo": [
           {
            "marker": {
             "colorbar": {
              "outlinewidth": 0,
              "ticks": ""
             }
            },
            "type": "scattergeo"
           }
          ],
          "scattergl": [
           {
            "marker": {
             "colorbar": {
              "outlinewidth": 0,
              "ticks": ""
             }
            },
            "type": "scattergl"
           }
          ],
          "scattermapbox": [
           {
            "marker": {
             "colorbar": {
              "outlinewidth": 0,
              "ticks": ""
             }
            },
            "type": "scattermapbox"
           }
          ],
          "scatterpolar": [
           {
            "marker": {
             "colorbar": {
              "outlinewidth": 0,
              "ticks": ""
             }
            },
            "type": "scatterpolar"
           }
          ],
          "scatterpolargl": [
           {
            "marker": {
             "colorbar": {
              "outlinewidth": 0,
              "ticks": ""
             }
            },
            "type": "scatterpolargl"
           }
          ],
          "scatterternary": [
           {
            "marker": {
             "colorbar": {
              "outlinewidth": 0,
              "ticks": ""
             }
            },
            "type": "scatterternary"
           }
          ],
          "surface": [
           {
            "colorbar": {
             "outlinewidth": 0,
             "ticks": ""
            },
            "colorscale": [
             [
              0,
              "#0d0887"
             ],
             [
              0.1111111111111111,
              "#46039f"
             ],
             [
              0.2222222222222222,
              "#7201a8"
             ],
             [
              0.3333333333333333,
              "#9c179e"
             ],
             [
              0.4444444444444444,
              "#bd3786"
             ],
             [
              0.5555555555555556,
              "#d8576b"
             ],
             [
              0.6666666666666666,
              "#ed7953"
             ],
             [
              0.7777777777777778,
              "#fb9f3a"
             ],
             [
              0.8888888888888888,
              "#fdca26"
             ],
             [
              1,
              "#f0f921"
             ]
            ],
            "type": "surface"
           }
          ],
          "table": [
           {
            "cells": {
             "fill": {
              "color": "#EBF0F8"
             },
             "line": {
              "color": "white"
             }
            },
            "header": {
             "fill": {
              "color": "#C8D4E3"
             },
             "line": {
              "color": "white"
             }
            },
            "type": "table"
           }
          ]
         },
         "layout": {
          "annotationdefaults": {
           "arrowcolor": "#2a3f5f",
           "arrowhead": 0,
           "arrowwidth": 1
          },
          "autotypenumbers": "strict",
          "coloraxis": {
           "colorbar": {
            "outlinewidth": 0,
            "ticks": ""
           }
          },
          "colorscale": {
           "diverging": [
            [
             0,
             "#8e0152"
            ],
            [
             0.1,
             "#c51b7d"
            ],
            [
             0.2,
             "#de77ae"
            ],
            [
             0.3,
             "#f1b6da"
            ],
            [
             0.4,
             "#fde0ef"
            ],
            [
             0.5,
             "#f7f7f7"
            ],
            [
             0.6,
             "#e6f5d0"
            ],
            [
             0.7,
             "#b8e186"
            ],
            [
             0.8,
             "#7fbc41"
            ],
            [
             0.9,
             "#4d9221"
            ],
            [
             1,
             "#276419"
            ]
           ],
           "sequential": [
            [
             0,
             "#0d0887"
            ],
            [
             0.1111111111111111,
             "#46039f"
            ],
            [
             0.2222222222222222,
             "#7201a8"
            ],
            [
             0.3333333333333333,
             "#9c179e"
            ],
            [
             0.4444444444444444,
             "#bd3786"
            ],
            [
             0.5555555555555556,
             "#d8576b"
            ],
            [
             0.6666666666666666,
             "#ed7953"
            ],
            [
             0.7777777777777778,
             "#fb9f3a"
            ],
            [
             0.8888888888888888,
             "#fdca26"
            ],
            [
             1,
             "#f0f921"
            ]
           ],
           "sequentialminus": [
            [
             0,
             "#0d0887"
            ],
            [
             0.1111111111111111,
             "#46039f"
            ],
            [
             0.2222222222222222,
             "#7201a8"
            ],
            [
             0.3333333333333333,
             "#9c179e"
            ],
            [
             0.4444444444444444,
             "#bd3786"
            ],
            [
             0.5555555555555556,
             "#d8576b"
            ],
            [
             0.6666666666666666,
             "#ed7953"
            ],
            [
             0.7777777777777778,
             "#fb9f3a"
            ],
            [
             0.8888888888888888,
             "#fdca26"
            ],
            [
             1,
             "#f0f921"
            ]
           ]
          },
          "colorway": [
           "#636efa",
           "#EF553B",
           "#00cc96",
           "#ab63fa",
           "#FFA15A",
           "#19d3f3",
           "#FF6692",
           "#B6E880",
           "#FF97FF",
           "#FECB52"
          ],
          "font": {
           "color": "#2a3f5f"
          },
          "geo": {
           "bgcolor": "white",
           "lakecolor": "white",
           "landcolor": "#E5ECF6",
           "showlakes": true,
           "showland": true,
           "subunitcolor": "white"
          },
          "hoverlabel": {
           "align": "left"
          },
          "hovermode": "closest",
          "mapbox": {
           "style": "light"
          },
          "paper_bgcolor": "white",
          "plot_bgcolor": "#E5ECF6",
          "polar": {
           "angularaxis": {
            "gridcolor": "white",
            "linecolor": "white",
            "ticks": ""
           },
           "bgcolor": "#E5ECF6",
           "radialaxis": {
            "gridcolor": "white",
            "linecolor": "white",
            "ticks": ""
           }
          },
          "scene": {
           "xaxis": {
            "backgroundcolor": "#E5ECF6",
            "gridcolor": "white",
            "gridwidth": 2,
            "linecolor": "white",
            "showbackground": true,
            "ticks": "",
            "zerolinecolor": "white"
           },
           "yaxis": {
            "backgroundcolor": "#E5ECF6",
            "gridcolor": "white",
            "gridwidth": 2,
            "linecolor": "white",
            "showbackground": true,
            "ticks": "",
            "zerolinecolor": "white"
           },
           "zaxis": {
            "backgroundcolor": "#E5ECF6",
            "gridcolor": "white",
            "gridwidth": 2,
            "linecolor": "white",
            "showbackground": true,
            "ticks": "",
            "zerolinecolor": "white"
           }
          },
          "shapedefaults": {
           "line": {
            "color": "#2a3f5f"
           }
          },
          "ternary": {
           "aaxis": {
            "gridcolor": "white",
            "linecolor": "white",
            "ticks": ""
           },
           "baxis": {
            "gridcolor": "white",
            "linecolor": "white",
            "ticks": ""
           },
           "bgcolor": "#E5ECF6",
           "caxis": {
            "gridcolor": "white",
            "linecolor": "white",
            "ticks": ""
           }
          },
          "title": {
           "x": 0.05
          },
          "xaxis": {
           "automargin": true,
           "gridcolor": "white",
           "linecolor": "white",
           "ticks": "",
           "title": {
            "standoff": 15
           },
           "zerolinecolor": "white",
           "zerolinewidth": 2
          },
          "yaxis": {
           "automargin": true,
           "gridcolor": "white",
           "linecolor": "white",
           "ticks": "",
           "title": {
            "standoff": 15
           },
           "zerolinecolor": "white",
           "zerolinewidth": 2
          }
         }
        },
        "title": {
         "text": "S vs count"
        },
        "xaxis": {
         "anchor": "y",
         "domain": [
          0,
          1
         ],
         "title": {
          "text": "index"
         }
        },
        "yaxis": {
         "anchor": "x",
         "domain": [
          0,
          1
         ],
         "title": {
          "text": "value"
         }
        }
       }
      },
      "text/html": [
       "<div>                            <div id=\"05e09d24-1521-495c-859b-e182d6650210\" class=\"plotly-graph-div\" style=\"height:525px; width:100%;\"></div>            <script type=\"text/javascript\">                require([\"plotly\"], function(Plotly) {                    window.PLOTLYENV=window.PLOTLYENV || {};                                    if (document.getElementById(\"05e09d24-1521-495c-859b-e182d6650210\")) {                    Plotly.newPlot(                        \"05e09d24-1521-495c-859b-e182d6650210\",                        [{\"hovertemplate\":\"variable=0<br>index=%{x}<br>value=%{y}<extra></extra>\",\"legendgroup\":\"0\",\"line\":{\"color\":\"#636efa\",\"dash\":\"solid\"},\"marker\":{\"symbol\":\"circle\"},\"mode\":\"lines\",\"name\":\"0\",\"orientation\":\"v\",\"showlegend\":true,\"x\":[0,1,2,3,4,5,6,7,8,9,10,11,12,13,14,15,16,17,18,19,20,21,22,23,24,25,26,27,28,29,30,31,32,33,34,35,36,37,38,39,40,41,42,43,44,45,46,47,48,49,50,51,52,53,54,55,56,57,58,59,60,61,62,63,64,65,66,67,68,69,70,71,72,73,74,75,76,77,78,79,80,81,82,83,84,85,86,87,88,89,90,91,92,93,94,95,96,97,98,99,100],\"xaxis\":\"x\",\"y\":[220100510.0,220100510.0,220099953.0,220220741.0,221105835.0,221105835.0,221105835.0,221105835.0,223147939.0,226415607.0,226415607.0,226415607.0,226415607.0,226415607.0,226415607.0,226415607.0,226415607.0,226415607.0,240998525.0,242311805.0,242311805.0,242311805.0,242311805.0,242311805.0,242311805.0,242311805.0,242311805.0,242311805.0,242311805.0,242311805.0,242311805.0,242311805.0,242311805.0,242311805.0,242311805.0,242311805.0,242311805.0,275244959.0,281248582.0,281248582.0,281248582.0,281248582.0,281248582.0,281248582.0,281248582.0,281248582.0,281248582.0,281248582.0,281248582.0,281248582.0,281248582.0,281248582.0,281248582.0,281248582.0,281248582.0,281248582.0,281248582.0,281248582.0,281248582.0,281248582.0,281248582.0,281248582.0,281248582.0,281248582.0,281248582.0,281248582.0,281248582.0,281248582.0,281248582.0,281248582.0,281248582.0,281248582.0,281248582.0,281248582.0,281248582.0,341538157.0,367330362.0,367330362.0,367330362.0,367330362.0,367330362.0,367330362.0,367330362.0,367330362.0,367330362.0,367330362.0,367330362.0,367330362.0,367330362.0,367330362.0,367330362.0,367330362.0,367330362.0,367330362.0,367330362.0,367330362.0,367330362.0,367330362.0,367330362.0,367330362.0,367330362.0],\"yaxis\":\"y\",\"type\":\"scatter\"}],                        {\"template\":{\"data\":{\"bar\":[{\"error_x\":{\"color\":\"#2a3f5f\"},\"error_y\":{\"color\":\"#2a3f5f\"},\"marker\":{\"line\":{\"color\":\"#E5ECF6\",\"width\":0.5},\"pattern\":{\"fillmode\":\"overlay\",\"size\":10,\"solidity\":0.2}},\"type\":\"bar\"}],\"barpolar\":[{\"marker\":{\"line\":{\"color\":\"#E5ECF6\",\"width\":0.5},\"pattern\":{\"fillmode\":\"overlay\",\"size\":10,\"solidity\":0.2}},\"type\":\"barpolar\"}],\"carpet\":[{\"aaxis\":{\"endlinecolor\":\"#2a3f5f\",\"gridcolor\":\"white\",\"linecolor\":\"white\",\"minorgridcolor\":\"white\",\"startlinecolor\":\"#2a3f5f\"},\"baxis\":{\"endlinecolor\":\"#2a3f5f\",\"gridcolor\":\"white\",\"linecolor\":\"white\",\"minorgridcolor\":\"white\",\"startlinecolor\":\"#2a3f5f\"},\"type\":\"carpet\"}],\"choropleth\":[{\"colorbar\":{\"outlinewidth\":0,\"ticks\":\"\"},\"type\":\"choropleth\"}],\"contour\":[{\"colorbar\":{\"outlinewidth\":0,\"ticks\":\"\"},\"colorscale\":[[0.0,\"#0d0887\"],[0.1111111111111111,\"#46039f\"],[0.2222222222222222,\"#7201a8\"],[0.3333333333333333,\"#9c179e\"],[0.4444444444444444,\"#bd3786\"],[0.5555555555555556,\"#d8576b\"],[0.6666666666666666,\"#ed7953\"],[0.7777777777777778,\"#fb9f3a\"],[0.8888888888888888,\"#fdca26\"],[1.0,\"#f0f921\"]],\"type\":\"contour\"}],\"contourcarpet\":[{\"colorbar\":{\"outlinewidth\":0,\"ticks\":\"\"},\"type\":\"contourcarpet\"}],\"heatmap\":[{\"colorbar\":{\"outlinewidth\":0,\"ticks\":\"\"},\"colorscale\":[[0.0,\"#0d0887\"],[0.1111111111111111,\"#46039f\"],[0.2222222222222222,\"#7201a8\"],[0.3333333333333333,\"#9c179e\"],[0.4444444444444444,\"#bd3786\"],[0.5555555555555556,\"#d8576b\"],[0.6666666666666666,\"#ed7953\"],[0.7777777777777778,\"#fb9f3a\"],[0.8888888888888888,\"#fdca26\"],[1.0,\"#f0f921\"]],\"type\":\"heatmap\"}],\"heatmapgl\":[{\"colorbar\":{\"outlinewidth\":0,\"ticks\":\"\"},\"colorscale\":[[0.0,\"#0d0887\"],[0.1111111111111111,\"#46039f\"],[0.2222222222222222,\"#7201a8\"],[0.3333333333333333,\"#9c179e\"],[0.4444444444444444,\"#bd3786\"],[0.5555555555555556,\"#d8576b\"],[0.6666666666666666,\"#ed7953\"],[0.7777777777777778,\"#fb9f3a\"],[0.8888888888888888,\"#fdca26\"],[1.0,\"#f0f921\"]],\"type\":\"heatmapgl\"}],\"histogram\":[{\"marker\":{\"pattern\":{\"fillmode\":\"overlay\",\"size\":10,\"solidity\":0.2}},\"type\":\"histogram\"}],\"histogram2d\":[{\"colorbar\":{\"outlinewidth\":0,\"ticks\":\"\"},\"colorscale\":[[0.0,\"#0d0887\"],[0.1111111111111111,\"#46039f\"],[0.2222222222222222,\"#7201a8\"],[0.3333333333333333,\"#9c179e\"],[0.4444444444444444,\"#bd3786\"],[0.5555555555555556,\"#d8576b\"],[0.6666666666666666,\"#ed7953\"],[0.7777777777777778,\"#fb9f3a\"],[0.8888888888888888,\"#fdca26\"],[1.0,\"#f0f921\"]],\"type\":\"histogram2d\"}],\"histogram2dcontour\":[{\"colorbar\":{\"outlinewidth\":0,\"ticks\":\"\"},\"colorscale\":[[0.0,\"#0d0887\"],[0.1111111111111111,\"#46039f\"],[0.2222222222222222,\"#7201a8\"],[0.3333333333333333,\"#9c179e\"],[0.4444444444444444,\"#bd3786\"],[0.5555555555555556,\"#d8576b\"],[0.6666666666666666,\"#ed7953\"],[0.7777777777777778,\"#fb9f3a\"],[0.8888888888888888,\"#fdca26\"],[1.0,\"#f0f921\"]],\"type\":\"histogram2dcontour\"}],\"mesh3d\":[{\"colorbar\":{\"outlinewidth\":0,\"ticks\":\"\"},\"type\":\"mesh3d\"}],\"parcoords\":[{\"line\":{\"colorbar\":{\"outlinewidth\":0,\"ticks\":\"\"}},\"type\":\"parcoords\"}],\"pie\":[{\"automargin\":true,\"type\":\"pie\"}],\"scatter\":[{\"marker\":{\"colorbar\":{\"outlinewidth\":0,\"ticks\":\"\"}},\"type\":\"scatter\"}],\"scatter3d\":[{\"line\":{\"colorbar\":{\"outlinewidth\":0,\"ticks\":\"\"}},\"marker\":{\"colorbar\":{\"outlinewidth\":0,\"ticks\":\"\"}},\"type\":\"scatter3d\"}],\"scattercarpet\":[{\"marker\":{\"colorbar\":{\"outlinewidth\":0,\"ticks\":\"\"}},\"type\":\"scattercarpet\"}],\"scattergeo\":[{\"marker\":{\"colorbar\":{\"outlinewidth\":0,\"ticks\":\"\"}},\"type\":\"scattergeo\"}],\"scattergl\":[{\"marker\":{\"colorbar\":{\"outlinewidth\":0,\"ticks\":\"\"}},\"type\":\"scattergl\"}],\"scattermapbox\":[{\"marker\":{\"colorbar\":{\"outlinewidth\":0,\"ticks\":\"\"}},\"type\":\"scattermapbox\"}],\"scatterpolar\":[{\"marker\":{\"colorbar\":{\"outlinewidth\":0,\"ticks\":\"\"}},\"type\":\"scatterpolar\"}],\"scatterpolargl\":[{\"marker\":{\"colorbar\":{\"outlinewidth\":0,\"ticks\":\"\"}},\"type\":\"scatterpolargl\"}],\"scatterternary\":[{\"marker\":{\"colorbar\":{\"outlinewidth\":0,\"ticks\":\"\"}},\"type\":\"scatterternary\"}],\"surface\":[{\"colorbar\":{\"outlinewidth\":0,\"ticks\":\"\"},\"colorscale\":[[0.0,\"#0d0887\"],[0.1111111111111111,\"#46039f\"],[0.2222222222222222,\"#7201a8\"],[0.3333333333333333,\"#9c179e\"],[0.4444444444444444,\"#bd3786\"],[0.5555555555555556,\"#d8576b\"],[0.6666666666666666,\"#ed7953\"],[0.7777777777777778,\"#fb9f3a\"],[0.8888888888888888,\"#fdca26\"],[1.0,\"#f0f921\"]],\"type\":\"surface\"}],\"table\":[{\"cells\":{\"fill\":{\"color\":\"#EBF0F8\"},\"line\":{\"color\":\"white\"}},\"header\":{\"fill\":{\"color\":\"#C8D4E3\"},\"line\":{\"color\":\"white\"}},\"type\":\"table\"}]},\"layout\":{\"annotationdefaults\":{\"arrowcolor\":\"#2a3f5f\",\"arrowhead\":0,\"arrowwidth\":1},\"autotypenumbers\":\"strict\",\"coloraxis\":{\"colorbar\":{\"outlinewidth\":0,\"ticks\":\"\"}},\"colorscale\":{\"diverging\":[[0,\"#8e0152\"],[0.1,\"#c51b7d\"],[0.2,\"#de77ae\"],[0.3,\"#f1b6da\"],[0.4,\"#fde0ef\"],[0.5,\"#f7f7f7\"],[0.6,\"#e6f5d0\"],[0.7,\"#b8e186\"],[0.8,\"#7fbc41\"],[0.9,\"#4d9221\"],[1,\"#276419\"]],\"sequential\":[[0.0,\"#0d0887\"],[0.1111111111111111,\"#46039f\"],[0.2222222222222222,\"#7201a8\"],[0.3333333333333333,\"#9c179e\"],[0.4444444444444444,\"#bd3786\"],[0.5555555555555556,\"#d8576b\"],[0.6666666666666666,\"#ed7953\"],[0.7777777777777778,\"#fb9f3a\"],[0.8888888888888888,\"#fdca26\"],[1.0,\"#f0f921\"]],\"sequentialminus\":[[0.0,\"#0d0887\"],[0.1111111111111111,\"#46039f\"],[0.2222222222222222,\"#7201a8\"],[0.3333333333333333,\"#9c179e\"],[0.4444444444444444,\"#bd3786\"],[0.5555555555555556,\"#d8576b\"],[0.6666666666666666,\"#ed7953\"],[0.7777777777777778,\"#fb9f3a\"],[0.8888888888888888,\"#fdca26\"],[1.0,\"#f0f921\"]]},\"colorway\":[\"#636efa\",\"#EF553B\",\"#00cc96\",\"#ab63fa\",\"#FFA15A\",\"#19d3f3\",\"#FF6692\",\"#B6E880\",\"#FF97FF\",\"#FECB52\"],\"font\":{\"color\":\"#2a3f5f\"},\"geo\":{\"bgcolor\":\"white\",\"lakecolor\":\"white\",\"landcolor\":\"#E5ECF6\",\"showlakes\":true,\"showland\":true,\"subunitcolor\":\"white\"},\"hoverlabel\":{\"align\":\"left\"},\"hovermode\":\"closest\",\"mapbox\":{\"style\":\"light\"},\"paper_bgcolor\":\"white\",\"plot_bgcolor\":\"#E5ECF6\",\"polar\":{\"angularaxis\":{\"gridcolor\":\"white\",\"linecolor\":\"white\",\"ticks\":\"\"},\"bgcolor\":\"#E5ECF6\",\"radialaxis\":{\"gridcolor\":\"white\",\"linecolor\":\"white\",\"ticks\":\"\"}},\"scene\":{\"xaxis\":{\"backgroundcolor\":\"#E5ECF6\",\"gridcolor\":\"white\",\"gridwidth\":2,\"linecolor\":\"white\",\"showbackground\":true,\"ticks\":\"\",\"zerolinecolor\":\"white\"},\"yaxis\":{\"backgroundcolor\":\"#E5ECF6\",\"gridcolor\":\"white\",\"gridwidth\":2,\"linecolor\":\"white\",\"showbackground\":true,\"ticks\":\"\",\"zerolinecolor\":\"white\"},\"zaxis\":{\"backgroundcolor\":\"#E5ECF6\",\"gridcolor\":\"white\",\"gridwidth\":2,\"linecolor\":\"white\",\"showbackground\":true,\"ticks\":\"\",\"zerolinecolor\":\"white\"}},\"shapedefaults\":{\"line\":{\"color\":\"#2a3f5f\"}},\"ternary\":{\"aaxis\":{\"gridcolor\":\"white\",\"linecolor\":\"white\",\"ticks\":\"\"},\"baxis\":{\"gridcolor\":\"white\",\"linecolor\":\"white\",\"ticks\":\"\"},\"bgcolor\":\"#E5ECF6\",\"caxis\":{\"gridcolor\":\"white\",\"linecolor\":\"white\",\"ticks\":\"\"}},\"title\":{\"x\":0.05},\"xaxis\":{\"automargin\":true,\"gridcolor\":\"white\",\"linecolor\":\"white\",\"ticks\":\"\",\"title\":{\"standoff\":15},\"zerolinecolor\":\"white\",\"zerolinewidth\":2},\"yaxis\":{\"automargin\":true,\"gridcolor\":\"white\",\"linecolor\":\"white\",\"ticks\":\"\",\"title\":{\"standoff\":15},\"zerolinecolor\":\"white\",\"zerolinewidth\":2}}},\"xaxis\":{\"anchor\":\"y\",\"domain\":[0.0,1.0],\"title\":{\"text\":\"index\"}},\"yaxis\":{\"anchor\":\"x\",\"domain\":[0.0,1.0],\"title\":{\"text\":\"value\"}},\"legend\":{\"title\":{\"text\":\"variable\"},\"tracegroupgap\":0},\"title\":{\"text\":\"S vs count\"}},                        {\"responsive\": true}                    ).then(function(){\n",
       "                            \n",
       "var gd = document.getElementById('05e09d24-1521-495c-859b-e182d6650210');\n",
       "var x = new MutationObserver(function (mutations, observer) {{\n",
       "        var display = window.getComputedStyle(gd).display;\n",
       "        if (!display || display === 'none') {{\n",
       "            console.log([gd, 'removed!']);\n",
       "            Plotly.purge(gd);\n",
       "            observer.disconnect();\n",
       "        }}\n",
       "}});\n",
       "\n",
       "// Listen for the removal of the full notebook cells\n",
       "var notebookContainer = gd.closest('#notebook-container');\n",
       "if (notebookContainer) {{\n",
       "    x.observe(notebookContainer, {childList: true});\n",
       "}}\n",
       "\n",
       "// Listen for the clearing of the current output cell\n",
       "var outputEl = gd.closest('.output');\n",
       "if (outputEl) {{\n",
       "    x.observe(outputEl, {childList: true});\n",
       "}}\n",
       "\n",
       "                        })                };                });            </script>        </div>"
      ]
     },
     "metadata": {},
     "output_type": "display_data"
    }
   ],
   "source": [
    "import plotly.express as px\n",
    "\n",
    "fig = px.line(pd.DataFrame(count.median()), title='S vs count')\n",
    "fig.show()"
   ]
  },
  {
   "cell_type": "code",
   "execution_count": 52,
   "id": "592089ab",
   "metadata": {},
   "outputs": [
    {
     "data": {
      "text/html": [
       "<div>\n",
       "<style scoped>\n",
       "    .dataframe tbody tr th:only-of-type {\n",
       "        vertical-align: middle;\n",
       "    }\n",
       "\n",
       "    .dataframe tbody tr th {\n",
       "        vertical-align: top;\n",
       "    }\n",
       "\n",
       "    .dataframe thead th {\n",
       "        text-align: right;\n",
       "    }\n",
       "</style>\n",
       "<table border=\"1\" class=\"dataframe\">\n",
       "  <thead>\n",
       "    <tr style=\"text-align: right;\">\n",
       "      <th></th>\n",
       "      <th>0</th>\n",
       "      <th>1</th>\n",
       "      <th>2</th>\n",
       "      <th>3</th>\n",
       "      <th>4</th>\n",
       "      <th>5</th>\n",
       "      <th>6</th>\n",
       "      <th>7</th>\n",
       "      <th>8</th>\n",
       "      <th>9</th>\n",
       "      <th>...</th>\n",
       "      <th>91</th>\n",
       "      <th>92</th>\n",
       "      <th>93</th>\n",
       "      <th>94</th>\n",
       "      <th>95</th>\n",
       "      <th>96</th>\n",
       "      <th>97</th>\n",
       "      <th>98</th>\n",
       "      <th>99</th>\n",
       "      <th>100</th>\n",
       "    </tr>\n",
       "  </thead>\n",
       "  <tbody>\n",
       "    <tr>\n",
       "      <th>count</th>\n",
       "      <td>21.000000</td>\n",
       "      <td>21.000000</td>\n",
       "      <td>21.000000</td>\n",
       "      <td>21.000000</td>\n",
       "      <td>21.000000</td>\n",
       "      <td>21.000000</td>\n",
       "      <td>21.000000</td>\n",
       "      <td>21.000000</td>\n",
       "      <td>21.000000</td>\n",
       "      <td>21.000000</td>\n",
       "      <td>...</td>\n",
       "      <td>21.000000</td>\n",
       "      <td>21.000000</td>\n",
       "      <td>21.000000</td>\n",
       "      <td>21.000000</td>\n",
       "      <td>21.000000</td>\n",
       "      <td>21.000000</td>\n",
       "      <td>21.000000</td>\n",
       "      <td>21.000000</td>\n",
       "      <td>21.000000</td>\n",
       "      <td>21.000000</td>\n",
       "    </tr>\n",
       "    <tr>\n",
       "      <th>mean</th>\n",
       "      <td>3.222238</td>\n",
       "      <td>2.625714</td>\n",
       "      <td>2.374333</td>\n",
       "      <td>2.311095</td>\n",
       "      <td>2.112476</td>\n",
       "      <td>2.088762</td>\n",
       "      <td>2.101952</td>\n",
       "      <td>2.146619</td>\n",
       "      <td>2.086095</td>\n",
       "      <td>1.994857</td>\n",
       "      <td>...</td>\n",
       "      <td>2.523905</td>\n",
       "      <td>2.498571</td>\n",
       "      <td>2.525476</td>\n",
       "      <td>2.540762</td>\n",
       "      <td>2.547476</td>\n",
       "      <td>2.543381</td>\n",
       "      <td>2.528857</td>\n",
       "      <td>2.524095</td>\n",
       "      <td>2.541048</td>\n",
       "      <td>2.528810</td>\n",
       "    </tr>\n",
       "    <tr>\n",
       "      <th>std</th>\n",
       "      <td>0.908828</td>\n",
       "      <td>0.478953</td>\n",
       "      <td>0.350092</td>\n",
       "      <td>0.367729</td>\n",
       "      <td>0.333534</td>\n",
       "      <td>0.305651</td>\n",
       "      <td>0.315649</td>\n",
       "      <td>0.339223</td>\n",
       "      <td>0.309178</td>\n",
       "      <td>0.289326</td>\n",
       "      <td>...</td>\n",
       "      <td>0.378243</td>\n",
       "      <td>0.348304</td>\n",
       "      <td>0.417342</td>\n",
       "      <td>0.412332</td>\n",
       "      <td>0.416690</td>\n",
       "      <td>0.425071</td>\n",
       "      <td>0.406431</td>\n",
       "      <td>0.413828</td>\n",
       "      <td>0.415386</td>\n",
       "      <td>0.401869</td>\n",
       "    </tr>\n",
       "    <tr>\n",
       "      <th>min</th>\n",
       "      <td>2.725000</td>\n",
       "      <td>2.290000</td>\n",
       "      <td>2.117000</td>\n",
       "      <td>2.063000</td>\n",
       "      <td>1.890000</td>\n",
       "      <td>1.887000</td>\n",
       "      <td>1.885000</td>\n",
       "      <td>1.889000</td>\n",
       "      <td>1.847000</td>\n",
       "      <td>1.781000</td>\n",
       "      <td>...</td>\n",
       "      <td>2.234000</td>\n",
       "      <td>2.229000</td>\n",
       "      <td>2.228000</td>\n",
       "      <td>2.223000</td>\n",
       "      <td>2.230000</td>\n",
       "      <td>2.228000</td>\n",
       "      <td>2.227000</td>\n",
       "      <td>2.210000</td>\n",
       "      <td>2.224000</td>\n",
       "      <td>2.234000</td>\n",
       "    </tr>\n",
       "    <tr>\n",
       "      <th>25%</th>\n",
       "      <td>2.745000</td>\n",
       "      <td>2.302000</td>\n",
       "      <td>2.130000</td>\n",
       "      <td>2.073000</td>\n",
       "      <td>1.896000</td>\n",
       "      <td>1.901000</td>\n",
       "      <td>1.895000</td>\n",
       "      <td>1.899000</td>\n",
       "      <td>1.858000</td>\n",
       "      <td>1.794000</td>\n",
       "      <td>...</td>\n",
       "      <td>2.239000</td>\n",
       "      <td>2.244000</td>\n",
       "      <td>2.239000</td>\n",
       "      <td>2.242000</td>\n",
       "      <td>2.237000</td>\n",
       "      <td>2.246000</td>\n",
       "      <td>2.243000</td>\n",
       "      <td>2.244000</td>\n",
       "      <td>2.241000</td>\n",
       "      <td>2.245000</td>\n",
       "    </tr>\n",
       "    <tr>\n",
       "      <th>50%</th>\n",
       "      <td>2.792000</td>\n",
       "      <td>2.325000</td>\n",
       "      <td>2.148000</td>\n",
       "      <td>2.103000</td>\n",
       "      <td>1.910000</td>\n",
       "      <td>1.910000</td>\n",
       "      <td>1.913000</td>\n",
       "      <td>1.913000</td>\n",
       "      <td>1.883000</td>\n",
       "      <td>1.800000</td>\n",
       "      <td>...</td>\n",
       "      <td>2.253000</td>\n",
       "      <td>2.258000</td>\n",
       "      <td>2.259000</td>\n",
       "      <td>2.274000</td>\n",
       "      <td>2.265000</td>\n",
       "      <td>2.264000</td>\n",
       "      <td>2.269000</td>\n",
       "      <td>2.267000</td>\n",
       "      <td>2.291000</td>\n",
       "      <td>2.286000</td>\n",
       "    </tr>\n",
       "    <tr>\n",
       "      <th>75%</th>\n",
       "      <td>3.322000</td>\n",
       "      <td>2.852000</td>\n",
       "      <td>2.577000</td>\n",
       "      <td>2.475000</td>\n",
       "      <td>2.303000</td>\n",
       "      <td>2.295000</td>\n",
       "      <td>2.316000</td>\n",
       "      <td>2.332000</td>\n",
       "      <td>2.300000</td>\n",
       "      <td>2.116000</td>\n",
       "      <td>...</td>\n",
       "      <td>2.748000</td>\n",
       "      <td>2.708000</td>\n",
       "      <td>2.709000</td>\n",
       "      <td>2.765000</td>\n",
       "      <td>2.786000</td>\n",
       "      <td>2.781000</td>\n",
       "      <td>2.763000</td>\n",
       "      <td>2.749000</td>\n",
       "      <td>2.760000</td>\n",
       "      <td>2.746000</td>\n",
       "    </tr>\n",
       "    <tr>\n",
       "      <th>max</th>\n",
       "      <td>6.684000</td>\n",
       "      <td>3.835000</td>\n",
       "      <td>3.362000</td>\n",
       "      <td>3.326000</td>\n",
       "      <td>3.099000</td>\n",
       "      <td>2.948000</td>\n",
       "      <td>2.843000</td>\n",
       "      <td>2.843000</td>\n",
       "      <td>2.797000</td>\n",
       "      <td>2.660000</td>\n",
       "      <td>...</td>\n",
       "      <td>3.562000</td>\n",
       "      <td>3.548000</td>\n",
       "      <td>3.764000</td>\n",
       "      <td>3.597000</td>\n",
       "      <td>3.687000</td>\n",
       "      <td>3.680000</td>\n",
       "      <td>3.562000</td>\n",
       "      <td>3.568000</td>\n",
       "      <td>3.616000</td>\n",
       "      <td>3.579000</td>\n",
       "    </tr>\n",
       "  </tbody>\n",
       "</table>\n",
       "<p>8 rows × 101 columns</p>\n",
       "</div>"
      ],
      "text/plain": [
       "             0          1          2          3          4          5    \\\n",
       "count  21.000000  21.000000  21.000000  21.000000  21.000000  21.000000   \n",
       "mean    3.222238   2.625714   2.374333   2.311095   2.112476   2.088762   \n",
       "std     0.908828   0.478953   0.350092   0.367729   0.333534   0.305651   \n",
       "min     2.725000   2.290000   2.117000   2.063000   1.890000   1.887000   \n",
       "25%     2.745000   2.302000   2.130000   2.073000   1.896000   1.901000   \n",
       "50%     2.792000   2.325000   2.148000   2.103000   1.910000   1.910000   \n",
       "75%     3.322000   2.852000   2.577000   2.475000   2.303000   2.295000   \n",
       "max     6.684000   3.835000   3.362000   3.326000   3.099000   2.948000   \n",
       "\n",
       "             6          7          8          9    ...        91         92   \\\n",
       "count  21.000000  21.000000  21.000000  21.000000  ...  21.000000  21.000000   \n",
       "mean    2.101952   2.146619   2.086095   1.994857  ...   2.523905   2.498571   \n",
       "std     0.315649   0.339223   0.309178   0.289326  ...   0.378243   0.348304   \n",
       "min     1.885000   1.889000   1.847000   1.781000  ...   2.234000   2.229000   \n",
       "25%     1.895000   1.899000   1.858000   1.794000  ...   2.239000   2.244000   \n",
       "50%     1.913000   1.913000   1.883000   1.800000  ...   2.253000   2.258000   \n",
       "75%     2.316000   2.332000   2.300000   2.116000  ...   2.748000   2.708000   \n",
       "max     2.843000   2.843000   2.797000   2.660000  ...   3.562000   3.548000   \n",
       "\n",
       "             93         94         95         96         97         98   \\\n",
       "count  21.000000  21.000000  21.000000  21.000000  21.000000  21.000000   \n",
       "mean    2.525476   2.540762   2.547476   2.543381   2.528857   2.524095   \n",
       "std     0.417342   0.412332   0.416690   0.425071   0.406431   0.413828   \n",
       "min     2.228000   2.223000   2.230000   2.228000   2.227000   2.210000   \n",
       "25%     2.239000   2.242000   2.237000   2.246000   2.243000   2.244000   \n",
       "50%     2.259000   2.274000   2.265000   2.264000   2.269000   2.267000   \n",
       "75%     2.709000   2.765000   2.786000   2.781000   2.763000   2.749000   \n",
       "max     3.764000   3.597000   3.687000   3.680000   3.562000   3.568000   \n",
       "\n",
       "             99         100  \n",
       "count  21.000000  21.000000  \n",
       "mean    2.541048   2.528810  \n",
       "std     0.415386   0.401869  \n",
       "min     2.224000   2.234000  \n",
       "25%     2.241000   2.245000  \n",
       "50%     2.291000   2.286000  \n",
       "75%     2.760000   2.746000  \n",
       "max     3.616000   3.579000  \n",
       "\n",
       "[8 rows x 101 columns]"
      ]
     },
     "execution_count": 52,
     "metadata": {},
     "output_type": "execute_result"
    }
   ],
   "source": [
    "time.describe()"
   ]
  },
  {
   "cell_type": "code",
   "execution_count": 53,
   "id": "d4a8c62c",
   "metadata": {},
   "outputs": [
    {
     "data": {
      "text/plain": [
       "<AxesSubplot:>"
      ]
     },
     "execution_count": 53,
     "metadata": {},
     "output_type": "execute_result"
    },
    {
     "data": {
      "image/png": "[encoded data removed]",
      "text/plain": [
       "<Figure size 288x288 with 1 Axes>"
      ]
     },
     "metadata": {
      "needs_background": "light"
     },
     "output_type": "display_data"
    }
   ],
   "source": [
    "f = plt.figure(figsize = (4,4))\n",
    "sb.lineplot(data=pd.DataFrame(time.median()))"
   ]
  },
  {
   "cell_type": "code",
   "execution_count": 54,
   "id": "7e13a469",
   "metadata": {},
   "outputs": [
    {
     "data": {
      "application/vnd.plotly.v1+json": {
       "config": {
        "plotlyServerURL": "https://plot.ly"
       },
       "data": [
        {
         "hovertemplate": "variable=0<br>index=%{x}<br>value=%{y}<extra></extra>",
         "legendgroup": "0",
         "line": {
          "color": "#636efa",
          "dash": "solid"
         },
         "marker": {
          "symbol": "circle"
         },
         "mode": "lines",
         "name": "0",
         "orientation": "v",
         "showlegend": true,
         "type": "scatter",
         "x": [
          0,
          1,
          2,
          3,
          4,
          5,
          6,
          7,
          8,
          9,
          10,
          11,
          12,
          13,
          14,
          15,
          16,
          17,
          18,
          19,
          20,
          21,
          22,
          23,
          24,
          25,
          26,
          27,
          28,
          29,
          30,
          31,
          32,
          33,
          34,
          35,
          36,
          37,
          38,
          39,
          40,
          41,
          42,
          43,
          44,
          45,
          46,
          47,
          48,
          49,
          50,
          51,
          52,
          53,
          54,
          55,
          56,
          57,
          58,
          59,
          60,
          61,
          62,
          63,
          64,
          65,
          66,
          67,
          68,
          69,
          70,
          71,
          72,
          73,
          74,
          75,
          76,
          77,
          78,
          79,
          80,
          81,
          82,
          83,
          84,
          85,
          86,
          87,
          88,
          89,
          90,
          91,
          92,
          93,
          94,
          95,
          96,
          97,
          98,
          99,
          100
         ],
         "xaxis": "x",
         "y": [
          2.792,
          2.325,
          2.148,
          2.103,
          1.91,
          1.91,
          1.913,
          1.913,
          1.883,
          1.8,
          1.806,
          1.81,
          1.8,
          1.801,
          1.792,
          1.799,
          1.803,
          1.793,
          1.783,
          1.781,
          1.774,
          1.794,
          1.783,
          1.787,
          1.781,
          1.781,
          1.781,
          1.786,
          1.784,
          1.785,
          1.787,
          1.786,
          1.786,
          1.793,
          1.793,
          1.785,
          1.785,
          1.886,
          1.905,
          1.896,
          1.9,
          1.904,
          1.906,
          1.902,
          1.899,
          1.901,
          1.903,
          1.898,
          1.902,
          1.893,
          1.895,
          1.914,
          1.914,
          1.903,
          1.906,
          1.893,
          1.9,
          1.898,
          1.893,
          1.903,
          1.902,
          1.9,
          1.907,
          1.9,
          1.903,
          1.903,
          1.902,
          1.9,
          1.902,
          1.904,
          1.906,
          1.909,
          1.897,
          1.909,
          1.913,
          2.157,
          2.349,
          2.31,
          2.301,
          2.301,
          2.287,
          2.257,
          2.271,
          2.252,
          2.262,
          2.25,
          2.27,
          2.273,
          2.27,
          2.258,
          2.265,
          2.253,
          2.258,
          2.259,
          2.274,
          2.265,
          2.264,
          2.269,
          2.267,
          2.291,
          2.286
         ],
         "yaxis": "y"
        }
       ],
       "layout": {
        "legend": {
         "title": {
          "text": "variable"
         },
         "tracegroupgap": 0
        },
        "template": {
         "data": {
          "bar": [
           {
            "error_x": {
             "color": "#2a3f5f"
            },
            "error_y": {
             "color": "#2a3f5f"
            },
            "marker": {
             "line": {
              "color": "#E5ECF6",
              "width": 0.5
             },
             "pattern": {
              "fillmode": "overlay",
              "size": 10,
              "solidity": 0.2
             }
            },
            "type": "bar"
           }
          ],
          "barpolar": [
           {
            "marker": {
             "line": {
              "color": "#E5ECF6",
              "width": 0.5
             },
             "pattern": {
              "fillmode": "overlay",
              "size": 10,
              "solidity": 0.2
             }
            },
            "type": "barpolar"
           }
          ],
          "carpet": [
           {
            "aaxis": {
             "endlinecolor": "#2a3f5f",
             "gridcolor": "white",
             "linecolor": "white",
             "minorgridcolor": "white",
             "startlinecolor": "#2a3f5f"
            },
            "baxis": {
             "endlinecolor": "#2a3f5f",
             "gridcolor": "white",
             "linecolor": "white",
             "minorgridcolor": "white",
             "startlinecolor": "#2a3f5f"
            },
            "type": "carpet"
           }
          ],
          "choropleth": [
           {
            "colorbar": {
             "outlinewidth": 0,
             "ticks": ""
            },
            "type": "choropleth"
           }
          ],
          "contour": [
           {
            "colorbar": {
             "outlinewidth": 0,
             "ticks": ""
            },
            "colorscale": [
             [
              0,
              "#0d0887"
             ],
             [
              0.1111111111111111,
              "#46039f"
             ],
             [
              0.2222222222222222,
              "#7201a8"
             ],
             [
              0.3333333333333333,
              "#9c179e"
             ],
             [
              0.4444444444444444,
              "#bd3786"
             ],
             [
              0.5555555555555556,
              "#d8576b"
             ],
             [
              0.6666666666666666,
              "#ed7953"
             ],
             [
              0.7777777777777778,
              "#fb9f3a"
             ],
             [
              0.8888888888888888,
              "#fdca26"
             ],
             [
              1,
              "#f0f921"
             ]
            ],
            "type": "contour"
           }
          ],
          "contourcarpet": [
           {
            "colorbar": {
             "outlinewidth": 0,
             "ticks": ""
            },
            "type": "contourcarpet"
           }
          ],
          "heatmap": [
           {
            "colorbar": {
             "outlinewidth": 0,
             "ticks": ""
            },
            "colorscale": [
             [
              0,
              "#0d0887"
             ],
             [
              0.1111111111111111,
              "#46039f"
             ],
             [
              0.2222222222222222,
              "#7201a8"
             ],
             [
              0.3333333333333333,
              "#9c179e"
             ],
             [
              0.4444444444444444,
              "#bd3786"
             ],
             [
              0.5555555555555556,
              "#d8576b"
             ],
             [
              0.6666666666666666,
              "#ed7953"
             ],
             [
              0.7777777777777778,
              "#fb9f3a"
             ],
             [
              0.8888888888888888,
              "#fdca26"
             ],
             [
              1,
              "#f0f921"
             ]
            ],
            "type": "heatmap"
           }
          ],
          "heatmapgl": [
           {
            "colorbar": {
             "outlinewidth": 0,
             "ticks": ""
            },
            "colorscale": [
             [
              0,
              "#0d0887"
             ],
             [
              0.1111111111111111,
              "#46039f"
             ],
             [
              0.2222222222222222,
              "#7201a8"
             ],
             [
              0.3333333333333333,
              "#9c179e"
             ],
             [
              0.4444444444444444,
              "#bd3786"
             ],
             [
              0.5555555555555556,
              "#d8576b"
             ],
             [
              0.6666666666666666,
              "#ed7953"
             ],
             [
              0.7777777777777778,
              "#fb9f3a"
             ],
             [
              0.8888888888888888,
              "#fdca26"
             ],
             [
              1,
              "#f0f921"
             ]
            ],
            "type": "heatmapgl"
           }
          ],
          "histogram": [
           {
            "marker": {
             "pattern": {
              "fillmode": "overlay",
              "size": 10,
              "solidity": 0.2
             }
            },
            "type": "histogram"
           }
          ],
          "histogram2d": [
           {
            "colorbar": {
             "outlinewidth": 0,
             "ticks": ""
            },
            "colorscale": [
             [
              0,
              "#0d0887"
             ],
             [
              0.1111111111111111,
              "#46039f"
             ],
             [
              0.2222222222222222,
              "#7201a8"
             ],
             [
              0.3333333333333333,
              "#9c179e"
             ],
             [
              0.4444444444444444,
              "#bd3786"
             ],
             [
              0.5555555555555556,
              "#d8576b"
             ],
             [
              0.6666666666666666,
              "#ed7953"
             ],
             [
              0.7777777777777778,
              "#fb9f3a"
             ],
             [
              0.8888888888888888,
              "#fdca26"
             ],
             [
              1,
              "#f0f921"
             ]
            ],
            "type": "histogram2d"
           }
          ],
          "histogram2dcontour": [
           {
            "colorbar": {
             "outlinewidth": 0,
             "ticks": ""
            },
            "colorscale": [
             [
              0,
              "#0d0887"
             ],
             [
              0.1111111111111111,
              "#46039f"
             ],
             [
              0.2222222222222222,
              "#7201a8"
             ],
             [
              0.3333333333333333,
              "#9c179e"
             ],
             [
              0.4444444444444444,
              "#bd3786"
             ],
             [
              0.5555555555555556,
              "#d8576b"
             ],
             [
              0.6666666666666666,
              "#ed7953"
             ],
             [
              0.7777777777777778,
              "#fb9f3a"
             ],
             [
              0.8888888888888888,
              "#fdca26"
             ],
             [
              1,
              "#f0f921"
             ]
            ],
            "type": "histogram2dcontour"
           }
          ],
          "mesh3d": [
           {
            "colorbar": {
             "outlinewidth": 0,
             "ticks": ""
            },
            "type": "mesh3d"
           }
          ],
          "parcoords": [
           {
            "line": {
             "colorbar": {
              "outlinewidth": 0,
              "ticks": ""
             }
            },
            "type": "parcoords"
           }
          ],
          "pie": [
           {
            "automargin": true,
            "type": "pie"
           }
          ],
          "scatter": [
           {
            "marker": {
             "colorbar": {
              "outlinewidth": 0,
              "ticks": ""
             }
            },
            "type": "scatter"
           }
          ],
          "scatter3d": [
           {
            "line": {
             "colorbar": {
              "outlinewidth": 0,
              "ticks": ""
             }
            },
            "marker": {
             "colorbar": {
              "outlinewidth": 0,
              "ticks": ""
             }
            },
            "type": "scatter3d"
           }
          ],
          "scattercarpet": [
           {
            "marker": {
             "colorbar": {
              "outlinewidth": 0,
              "ticks": ""
             }
            },
            "type": "scattercarpet"
           }
          ],
          "scattergeo": [
           {
            "marker": {
             "colorbar": {
              "outlinewidth": 0,
              "ticks": ""
             }
            },
            "type": "scattergeo"
           }
          ],
          "scattergl": [
           {
            "marker": {
             "colorbar": {
              "outlinewidth": 0,
              "ticks": ""
             }
            },
            "type": "scattergl"
           }
          ],
          "scattermapbox": [
           {
            "marker": {
             "colorbar": {
              "outlinewidth": 0,
              "ticks": ""
             }
            },
            "type": "scattermapbox"
           }
          ],
          "scatterpolar": [
           {
            "marker": {
             "colorbar": {
              "outlinewidth": 0,
              "ticks": ""
             }
            },
            "type": "scatterpolar"
           }
          ],
          "scatterpolargl": [
           {
            "marker": {
             "colorbar": {
              "outlinewidth": 0,
              "ticks": ""
             }
            },
            "type": "scatterpolargl"
           }
          ],
          "scatterternary": [
           {
            "marker": {
             "colorbar": {
              "outlinewidth": 0,
              "ticks": ""
             }
            },
            "type": "scatterternary"
           }
          ],
          "surface": [
           {
            "colorbar": {
             "outlinewidth": 0,
             "ticks": ""
            },
            "colorscale": [
             [
              0,
              "#0d0887"
             ],
             [
              0.1111111111111111,
              "#46039f"
             ],
             [
              0.2222222222222222,
              "#7201a8"
             ],
             [
              0.3333333333333333,
              "#9c179e"
             ],
             [
              0.4444444444444444,
              "#bd3786"
             ],
             [
              0.5555555555555556,
              "#d8576b"
             ],
             [
              0.6666666666666666,
              "#ed7953"
             ],
             [
              0.7777777777777778,
              "#fb9f3a"
             ],
             [
              0.8888888888888888,
              "#fdca26"
             ],
             [
              1,
              "#f0f921"
             ]
            ],
            "type": "surface"
           }
          ],
          "table": [
           {
            "cells": {
             "fill": {
              "color": "#EBF0F8"
             },
             "line": {
              "color": "white"
             }
            },
            "header": {
             "fill": {
              "color": "#C8D4E3"
             },
             "line": {
              "color": "white"
             }
            },
            "type": "table"
           }
          ]
         },
         "layout": {
          "annotationdefaults": {
           "arrowcolor": "#2a3f5f",
           "arrowhead": 0,
           "arrowwidth": 1
          },
          "autotypenumbers": "strict",
          "coloraxis": {
           "colorbar": {
            "outlinewidth": 0,
            "ticks": ""
           }
          },
          "colorscale": {
           "diverging": [
            [
             0,
             "#8e0152"
            ],
            [
             0.1,
             "#c51b7d"
            ],
            [
             0.2,
             "#de77ae"
            ],
            [
             0.3,
             "#f1b6da"
            ],
            [
             0.4,
             "#fde0ef"
            ],
            [
             0.5,
             "#f7f7f7"
            ],
            [
             0.6,
             "#e6f5d0"
            ],
            [
             0.7,
             "#b8e186"
            ],
            [
             0.8,
             "#7fbc41"
            ],
            [
             0.9,
             "#4d9221"
            ],
            [
             1,
             "#276419"
            ]
           ],
           "sequential": [
            [
             0,
             "#0d0887"
            ],
            [
             0.1111111111111111,
             "#46039f"
            ],
            [
             0.2222222222222222,
             "#7201a8"
            ],
            [
             0.3333333333333333,
             "#9c179e"
            ],
            [
             0.4444444444444444,
             "#bd3786"
            ],
            [
             0.5555555555555556,
             "#d8576b"
            ],
            [
             0.6666666666666666,
             "#ed7953"
            ],
            [
             0.7777777777777778,
             "#fb9f3a"
            ],
            [
             0.8888888888888888,
             "#fdca26"
            ],
            [
             1,
             "#f0f921"
            ]
           ],
           "sequentialminus": [
            [
             0,
             "#0d0887"
            ],
            [
             0.1111111111111111,
             "#46039f"
            ],
            [
             0.2222222222222222,
             "#7201a8"
            ],
            [
             0.3333333333333333,
             "#9c179e"
            ],
            [
             0.4444444444444444,
             "#bd3786"
            ],
            [
             0.5555555555555556,
             "#d8576b"
            ],
            [
             0.6666666666666666,
             "#ed7953"
            ],
            [
             0.7777777777777778,
             "#fb9f3a"
            ],
            [
             0.8888888888888888,
             "#fdca26"
            ],
            [
             1,
             "#f0f921"
            ]
           ]
          },
          "colorway": [
           "#636efa",
           "#EF553B",
           "#00cc96",
           "#ab63fa",
           "#FFA15A",
           "#19d3f3",
           "#FF6692",
           "#B6E880",
           "#FF97FF",
           "#FECB52"
          ],
          "font": {
           "color": "#2a3f5f"
          },
          "geo": {
           "bgcolor": "white",
           "lakecolor": "white",
           "landcolor": "#E5ECF6",
           "showlakes": true,
           "showland": true,
           "subunitcolor": "white"
          },
          "hoverlabel": {
           "align": "left"
          },
          "hovermode": "closest",
          "mapbox": {
           "style": "light"
          },
          "paper_bgcolor": "white",
          "plot_bgcolor": "#E5ECF6",
          "polar": {
           "angularaxis": {
            "gridcolor": "white",
            "linecolor": "white",
            "ticks": ""
           },
           "bgcolor": "#E5ECF6",
           "radialaxis": {
            "gridcolor": "white",
            "linecolor": "white",
            "ticks": ""
           }
          },
          "scene": {
           "xaxis": {
            "backgroundcolor": "#E5ECF6",
            "gridcolor": "white",
            "gridwidth": 2,
            "linecolor": "white",
            "showbackground": true,
            "ticks": "",
            "zerolinecolor": "white"
           },
           "yaxis": {
            "backgroundcolor": "#E5ECF6",
            "gridcolor": "white",
            "gridwidth": 2,
            "linecolor": "white",
            "showbackground": true,
            "ticks": "",
            "zerolinecolor": "white"
           },
           "zaxis": {
            "backgroundcolor": "#E5ECF6",
            "gridcolor": "white",
            "gridwidth": 2,
            "linecolor": "white",
            "showbackground": true,
            "ticks": "",
            "zerolinecolor": "white"
           }
          },
          "shapedefaults": {
           "line": {
            "color": "#2a3f5f"
           }
          },
          "ternary": {
           "aaxis": {
            "gridcolor": "white",
            "linecolor": "white",
            "ticks": ""
           },
           "baxis": {
            "gridcolor": "white",
            "linecolor": "white",
            "ticks": ""
           },
           "bgcolor": "#E5ECF6",
           "caxis": {
            "gridcolor": "white",
            "linecolor": "white",
            "ticks": ""
           }
          },
          "title": {
           "x": 0.05
          },
          "xaxis": {
           "automargin": true,
           "gridcolor": "white",
           "linecolor": "white",
           "ticks": "",
           "title": {
            "standoff": 15
           },
           "zerolinecolor": "white",
           "zerolinewidth": 2
          },
          "yaxis": {
           "automargin": true,
           "gridcolor": "white",
           "linecolor": "white",
           "ticks": "",
           "title": {
            "standoff": 15
           },
           "zerolinecolor": "white",
           "zerolinewidth": 2
          }
         }
        },
        "title": {
         "text": "S vs time"
        },
        "xaxis": {
         "anchor": "y",
         "domain": [
          0,
          1
         ],
         "title": {
          "text": "index"
         }
        },
        "yaxis": {
         "anchor": "x",
         "domain": [
          0,
          1
         ],
         "title": {
          "text": "value"
         }
        }
       }
      },
      "text/html": [
       "<div>                            <div id=\"d815dce8-5280-40cb-b966-4563481bbcf4\" class=\"plotly-graph-div\" style=\"height:525px; width:100%;\"></div>            <script type=\"text/javascript\">                require([\"plotly\"], function(Plotly) {                    window.PLOTLYENV=window.PLOTLYENV || {};                                    if (document.getElementById(\"d815dce8-5280-40cb-b966-4563481bbcf4\")) {                    Plotly.newPlot(                        \"d815dce8-5280-40cb-b966-4563481bbcf4\",                        [{\"hovertemplate\":\"variable=0<br>index=%{x}<br>value=%{y}<extra></extra>\",\"legendgroup\":\"0\",\"line\":{\"color\":\"#636efa\",\"dash\":\"solid\"},\"marker\":{\"symbol\":\"circle\"},\"mode\":\"lines\",\"name\":\"0\",\"orientation\":\"v\",\"showlegend\":true,\"x\":[0,1,2,3,4,5,6,7,8,9,10,11,12,13,14,15,16,17,18,19,20,21,22,23,24,25,26,27,28,29,30,31,32,33,34,35,36,37,38,39,40,41,42,43,44,45,46,47,48,49,50,51,52,53,54,55,56,57,58,59,60,61,62,63,64,65,66,67,68,69,70,71,72,73,74,75,76,77,78,79,80,81,82,83,84,85,86,87,88,89,90,91,92,93,94,95,96,97,98,99,100],\"xaxis\":\"x\",\"y\":[2.792,2.325,2.148,2.103,1.91,1.91,1.913,1.913,1.883,1.8,1.806,1.81,1.8,1.801,1.792,1.799,1.803,1.793,1.783,1.781,1.774,1.794,1.783,1.787,1.781,1.781,1.781,1.786,1.784,1.785,1.787,1.786,1.786,1.793,1.793,1.785,1.785,1.886,1.905,1.896,1.9,1.904,1.906,1.902,1.899,1.901,1.903,1.898,1.902,1.893,1.895,1.914,1.914,1.903,1.906,1.893,1.9,1.898,1.893,1.903,1.902,1.9,1.907,1.9,1.903,1.903,1.902,1.9,1.902,1.904,1.906,1.909,1.897,1.909,1.913,2.157,2.349,2.31,2.301,2.301,2.287,2.257,2.271,2.252,2.262,2.25,2.27,2.273,2.27,2.258,2.265,2.253,2.258,2.259,2.274,2.265,2.264,2.269,2.267,2.291,2.286],\"yaxis\":\"y\",\"type\":\"scatter\"}],                        {\"template\":{\"data\":{\"bar\":[{\"error_x\":{\"color\":\"#2a3f5f\"},\"error_y\":{\"color\":\"#2a3f5f\"},\"marker\":{\"line\":{\"color\":\"#E5ECF6\",\"width\":0.5},\"pattern\":{\"fillmode\":\"overlay\",\"size\":10,\"solidity\":0.2}},\"type\":\"bar\"}],\"barpolar\":[{\"marker\":{\"line\":{\"color\":\"#E5ECF6\",\"width\":0.5},\"pattern\":{\"fillmode\":\"overlay\",\"size\":10,\"solidity\":0.2}},\"type\":\"barpolar\"}],\"carpet\":[{\"aaxis\":{\"endlinecolor\":\"#2a3f5f\",\"gridcolor\":\"white\",\"linecolor\":\"white\",\"minorgridcolor\":\"white\",\"startlinecolor\":\"#2a3f5f\"},\"baxis\":{\"endlinecolor\":\"#2a3f5f\",\"gridcolor\":\"white\",\"linecolor\":\"white\",\"minorgridcolor\":\"white\",\"startlinecolor\":\"#2a3f5f\"},\"type\":\"carpet\"}],\"choropleth\":[{\"colorbar\":{\"outlinewidth\":0,\"ticks\":\"\"},\"type\":\"choropleth\"}],\"contour\":[{\"colorbar\":{\"outlinewidth\":0,\"ticks\":\"\"},\"colorscale\":[[0.0,\"#0d0887\"],[0.1111111111111111,\"#46039f\"],[0.2222222222222222,\"#7201a8\"],[0.3333333333333333,\"#9c179e\"],[0.4444444444444444,\"#bd3786\"],[0.5555555555555556,\"#d8576b\"],[0.6666666666666666,\"#ed7953\"],[0.7777777777777778,\"#fb9f3a\"],[0.8888888888888888,\"#fdca26\"],[1.0,\"#f0f921\"]],\"type\":\"contour\"}],\"contourcarpet\":[{\"colorbar\":{\"outlinewidth\":0,\"ticks\":\"\"},\"type\":\"contourcarpet\"}],\"heatmap\":[{\"colorbar\":{\"outlinewidth\":0,\"ticks\":\"\"},\"colorscale\":[[0.0,\"#0d0887\"],[0.1111111111111111,\"#46039f\"],[0.2222222222222222,\"#7201a8\"],[0.3333333333333333,\"#9c179e\"],[0.4444444444444444,\"#bd3786\"],[0.5555555555555556,\"#d8576b\"],[0.6666666666666666,\"#ed7953\"],[0.7777777777777778,\"#fb9f3a\"],[0.8888888888888888,\"#fdca26\"],[1.0,\"#f0f921\"]],\"type\":\"heatmap\"}],\"heatmapgl\":[{\"colorbar\":{\"outlinewidth\":0,\"ticks\":\"\"},\"colorscale\":[[0.0,\"#0d0887\"],[0.1111111111111111,\"#46039f\"],[0.2222222222222222,\"#7201a8\"],[0.3333333333333333,\"#9c179e\"],[0.4444444444444444,\"#bd3786\"],[0.5555555555555556,\"#d8576b\"],[0.6666666666666666,\"#ed7953\"],[0.7777777777777778,\"#fb9f3a\"],[0.8888888888888888,\"#fdca26\"],[1.0,\"#f0f921\"]],\"type\":\"heatmapgl\"}],\"histogram\":[{\"marker\":{\"pattern\":{\"fillmode\":\"overlay\",\"size\":10,\"solidity\":0.2}},\"type\":\"histogram\"}],\"histogram2d\":[{\"colorbar\":{\"outlinewidth\":0,\"ticks\":\"\"},\"colorscale\":[[0.0,\"#0d0887\"],[0.1111111111111111,\"#46039f\"],[0.2222222222222222,\"#7201a8\"],[0.3333333333333333,\"#9c179e\"],[0.4444444444444444,\"#bd3786\"],[0.5555555555555556,\"#d8576b\"],[0.6666666666666666,\"#ed7953\"],[0.7777777777777778,\"#fb9f3a\"],[0.8888888888888888,\"#fdca26\"],[1.0,\"#f0f921\"]],\"type\":\"histogram2d\"}],\"histogram2dcontour\":[{\"colorbar\":{\"outlinewidth\":0,\"ticks\":\"\"},\"colorscale\":[[0.0,\"#0d0887\"],[0.1111111111111111,\"#46039f\"],[0.2222222222222222,\"#7201a8\"],[0.3333333333333333,\"#9c179e\"],[0.4444444444444444,\"#bd3786\"],[0.5555555555555556,\"#d8576b\"],[0.6666666666666666,\"#ed7953\"],[0.7777777777777778,\"#fb9f3a\"],[0.8888888888888888,\"#fdca26\"],[1.0,\"#f0f921\"]],\"type\":\"histogram2dcontour\"}],\"mesh3d\":[{\"colorbar\":{\"outlinewidth\":0,\"ticks\":\"\"},\"type\":\"mesh3d\"}],\"parcoords\":[{\"line\":{\"colorbar\":{\"outlinewidth\":0,\"ticks\":\"\"}},\"type\":\"parcoords\"}],\"pie\":[{\"automargin\":true,\"type\":\"pie\"}],\"scatter\":[{\"marker\":{\"colorbar\":{\"outlinewidth\":0,\"ticks\":\"\"}},\"type\":\"scatter\"}],\"scatter3d\":[{\"line\":{\"colorbar\":{\"outlinewidth\":0,\"ticks\":\"\"}},\"marker\":{\"colorbar\":{\"outlinewidth\":0,\"ticks\":\"\"}},\"type\":\"scatter3d\"}],\"scattercarpet\":[{\"marker\":{\"colorbar\":{\"outlinewidth\":0,\"ticks\":\"\"}},\"type\":\"scattercarpet\"}],\"scattergeo\":[{\"marker\":{\"colorbar\":{\"outlinewidth\":0,\"ticks\":\"\"}},\"type\":\"scattergeo\"}],\"scattergl\":[{\"marker\":{\"colorbar\":{\"outlinewidth\":0,\"ticks\":\"\"}},\"type\":\"scattergl\"}],\"scattermapbox\":[{\"marker\":{\"colorbar\":{\"outlinewidth\":0,\"ticks\":\"\"}},\"type\":\"scattermapbox\"}],\"scatterpolar\":[{\"marker\":{\"colorbar\":{\"outlinewidth\":0,\"ticks\":\"\"}},\"type\":\"scatterpolar\"}],\"scatterpolargl\":[{\"marker\":{\"colorbar\":{\"outlinewidth\":0,\"ticks\":\"\"}},\"type\":\"scatterpolargl\"}],\"scatterternary\":[{\"marker\":{\"colorbar\":{\"outlinewidth\":0,\"ticks\":\"\"}},\"type\":\"scatterternary\"}],\"surface\":[{\"colorbar\":{\"outlinewidth\":0,\"ticks\":\"\"},\"colorscale\":[[0.0,\"#0d0887\"],[0.1111111111111111,\"#46039f\"],[0.2222222222222222,\"#7201a8\"],[0.3333333333333333,\"#9c179e\"],[0.4444444444444444,\"#bd3786\"],[0.5555555555555556,\"#d8576b\"],[0.6666666666666666,\"#ed7953\"],[0.7777777777777778,\"#fb9f3a\"],[0.8888888888888888,\"#fdca26\"],[1.0,\"#f0f921\"]],\"type\":\"surface\"}],\"table\":[{\"cells\":{\"fill\":{\"color\":\"#EBF0F8\"},\"line\":{\"color\":\"white\"}},\"header\":{\"fill\":{\"color\":\"#C8D4E3\"},\"line\":{\"color\":\"white\"}},\"type\":\"table\"}]},\"layout\":{\"annotationdefaults\":{\"arrowcolor\":\"#2a3f5f\",\"arrowhead\":0,\"arrowwidth\":1},\"autotypenumbers\":\"strict\",\"coloraxis\":{\"colorbar\":{\"outlinewidth\":0,\"ticks\":\"\"}},\"colorscale\":{\"diverging\":[[0,\"#8e0152\"],[0.1,\"#c51b7d\"],[0.2,\"#de77ae\"],[0.3,\"#f1b6da\"],[0.4,\"#fde0ef\"],[0.5,\"#f7f7f7\"],[0.6,\"#e6f5d0\"],[0.7,\"#b8e186\"],[0.8,\"#7fbc41\"],[0.9,\"#4d9221\"],[1,\"#276419\"]],\"sequential\":[[0.0,\"#0d0887\"],[0.1111111111111111,\"#46039f\"],[0.2222222222222222,\"#7201a8\"],[0.3333333333333333,\"#9c179e\"],[0.4444444444444444,\"#bd3786\"],[0.5555555555555556,\"#d8576b\"],[0.6666666666666666,\"#ed7953\"],[0.7777777777777778,\"#fb9f3a\"],[0.8888888888888888,\"#fdca26\"],[1.0,\"#f0f921\"]],\"sequentialminus\":[[0.0,\"#0d0887\"],[0.1111111111111111,\"#46039f\"],[0.2222222222222222,\"#7201a8\"],[0.3333333333333333,\"#9c179e\"],[0.4444444444444444,\"#bd3786\"],[0.5555555555555556,\"#d8576b\"],[0.6666666666666666,\"#ed7953\"],[0.7777777777777778,\"#fb9f3a\"],[0.8888888888888888,\"#fdca26\"],[1.0,\"#f0f921\"]]},\"colorway\":[\"#636efa\",\"#EF553B\",\"#00cc96\",\"#ab63fa\",\"#FFA15A\",\"#19d3f3\",\"#FF6692\",\"#B6E880\",\"#FF97FF\",\"#FECB52\"],\"font\":{\"color\":\"#2a3f5f\"},\"geo\":{\"bgcolor\":\"white\",\"lakecolor\":\"white\",\"landcolor\":\"#E5ECF6\",\"showlakes\":true,\"showland\":true,\"subunitcolor\":\"white\"},\"hoverlabel\":{\"align\":\"left\"},\"hovermode\":\"closest\",\"mapbox\":{\"style\":\"light\"},\"paper_bgcolor\":\"white\",\"plot_bgcolor\":\"#E5ECF6\",\"polar\":{\"angularaxis\":{\"gridcolor\":\"white\",\"linecolor\":\"white\",\"ticks\":\"\"},\"bgcolor\":\"#E5ECF6\",\"radialaxis\":{\"gridcolor\":\"white\",\"linecolor\":\"white\",\"ticks\":\"\"}},\"scene\":{\"xaxis\":{\"backgroundcolor\":\"#E5ECF6\",\"gridcolor\":\"white\",\"gridwidth\":2,\"linecolor\":\"white\",\"showbackground\":true,\"ticks\":\"\",\"zerolinecolor\":\"white\"},\"yaxis\":{\"backgroundcolor\":\"#E5ECF6\",\"gridcolor\":\"white\",\"gridwidth\":2,\"linecolor\":\"white\",\"showbackground\":true,\"ticks\":\"\",\"zerolinecolor\":\"white\"},\"zaxis\":{\"backgroundcolor\":\"#E5ECF6\",\"gridcolor\":\"white\",\"gridwidth\":2,\"linecolor\":\"white\",\"showbackground\":true,\"ticks\":\"\",\"zerolinecolor\":\"white\"}},\"shapedefaults\":{\"line\":{\"color\":\"#2a3f5f\"}},\"ternary\":{\"aaxis\":{\"gridcolor\":\"white\",\"linecolor\":\"white\",\"ticks\":\"\"},\"baxis\":{\"gridcolor\":\"white\",\"linecolor\":\"white\",\"ticks\":\"\"},\"bgcolor\":\"#E5ECF6\",\"caxis\":{\"gridcolor\":\"white\",\"linecolor\":\"white\",\"ticks\":\"\"}},\"title\":{\"x\":0.05},\"xaxis\":{\"automargin\":true,\"gridcolor\":\"white\",\"linecolor\":\"white\",\"ticks\":\"\",\"title\":{\"standoff\":15},\"zerolinecolor\":\"white\",\"zerolinewidth\":2},\"yaxis\":{\"automargin\":true,\"gridcolor\":\"white\",\"linecolor\":\"white\",\"ticks\":\"\",\"title\":{\"standoff\":15},\"zerolinecolor\":\"white\",\"zerolinewidth\":2}}},\"xaxis\":{\"anchor\":\"y\",\"domain\":[0.0,1.0],\"title\":{\"text\":\"index\"}},\"yaxis\":{\"anchor\":\"x\",\"domain\":[0.0,1.0],\"title\":{\"text\":\"value\"}},\"legend\":{\"title\":{\"text\":\"variable\"},\"tracegroupgap\":0},\"title\":{\"text\":\"S vs time\"}},                        {\"responsive\": true}                    ).then(function(){\n",
       "                            \n",
       "var gd = document.getElementById('d815dce8-5280-40cb-b966-4563481bbcf4');\n",
       "var x = new MutationObserver(function (mutations, observer) {{\n",
       "        var display = window.getComputedStyle(gd).display;\n",
       "        if (!display || display === 'none') {{\n",
       "            console.log([gd, 'removed!']);\n",
       "            Plotly.purge(gd);\n",
       "            observer.disconnect();\n",
       "        }}\n",
       "}});\n",
       "\n",
       "// Listen for the removal of the full notebook cells\n",
       "var notebookContainer = gd.closest('#notebook-container');\n",
       "if (notebookContainer) {{\n",
       "    x.observe(notebookContainer, {childList: true});\n",
       "}}\n",
       "\n",
       "// Listen for the clearing of the current output cell\n",
       "var outputEl = gd.closest('.output');\n",
       "if (outputEl) {{\n",
       "    x.observe(outputEl, {childList: true});\n",
       "}}\n",
       "\n",
       "                        })                };                });            </script>        </div>"
      ]
     },
     "metadata": {},
     "output_type": "display_data"
    }
   ],
   "source": [
    "import plotly.express as px\n",
    "\n",
    "fig = px.line(pd.DataFrame(time.median()), title='S vs time')\n",
    "fig.show()"
   ]
  },
  {
   "cell_type": "code",
   "execution_count": null,
   "id": "2012c2b2",
   "metadata": {},
   "outputs": [],
   "source": []
  }
 ],
 "metadata": {
  "kernelspec": {
   "display_name": "Python 3 (ipykernel)",
   "language": "python",
   "name": "python3"
  },
  "language_info": {
   "codemirror_mode": {
    "name": "ipython",
    "version": 3
   },
   "file_extension": ".py",
   "mimetype": "text/x-python",
   "name": "python",
   "nbconvert_exporter": "python",
   "pygments_lexer": "ipython3",
   "version": "3.9.7"
  }
 },
 "nbformat": 4,
 "nbformat_minor": 5
}
